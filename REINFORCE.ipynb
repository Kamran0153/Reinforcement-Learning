{
  "nbformat": 4,
  "nbformat_minor": 0,
  "metadata": {
    "colab": {
      "name": "REINFORCE.ipynb",
      "provenance": [],
      "collapsed_sections": [],
      "authorship_tag": "ABX9TyMMCUIyp0ZQXBf+ty+PV5ed",
      "include_colab_link": true
    },
    "kernelspec": {
      "name": "python3",
      "display_name": "Python 3"
    },
    "language_info": {
      "name": "python"
    }
  },
  "cells": [
    {
      "cell_type": "markdown",
      "metadata": {
        "id": "view-in-github",
        "colab_type": "text"
      },
      "source": [
        "<a href=\"https://colab.research.google.com/github/mzs0153/ELEC-7970-Reinforcement-Learning/blob/main/REINFORCE.ipynb\" target=\"_parent\"><img src=\"https://colab.research.google.com/assets/colab-badge.svg\" alt=\"Open In Colab\"/></a>"
      ]
    },
    {
      "cell_type": "code",
      "metadata": {
        "id": "NKRra3NLv0I-"
      },
      "source": [
        "import gym\n",
        "import numpy as np\n",
        "import tensorflow as tf\n",
        "from tensorflow import keras\n",
        "from tensorflow.keras import layers\n",
        "\n",
        "# Configuration parameters for the whole setup\n",
        "seed = 42\n",
        "gamma = 0.99  # Discount factor for past rewards\n",
        "max_steps_per_episode = 10000\n",
        "env = gym.make(\"CartPole-v0\")  # Create the environment\n",
        "env.seed(seed)\n",
        "eps = np.finfo(np.float32).eps.item()  # Smallest number such that 1.0 + eps != 1.0"
      ],
      "execution_count": 1,
      "outputs": []
    },
    {
      "cell_type": "markdown",
      "metadata": {
        "id": "AyC4hr2TGB5E"
      },
      "source": [
        "# Creating Policy Network:"
      ]
    },
    {
      "cell_type": "code",
      "metadata": {
        "colab": {
          "base_uri": "https://localhost:8080/"
        },
        "id": "q-pRS2jUv_Aa",
        "outputId": "ffd273ec-d0d1-4494-d87a-8b7b368cf94a"
      },
      "source": [
        "num_inputs = 4\n",
        "num_actions = 2\n",
        "num_hidden = 128\n",
        "\n",
        "inputs = layers.Input(shape=(num_inputs,))\n",
        "common = layers.Dense(num_hidden, activation=\"relu\")(inputs)\n",
        "action = layers.Dense(num_actions, activation=\"softmax\")(common)\n",
        "\n",
        "model = keras.Model(inputs=inputs, outputs=action)\n",
        "model.summary()"
      ],
      "execution_count": 24,
      "outputs": [
        {
          "output_type": "stream",
          "name": "stdout",
          "text": [
            "Model: \"model_11\"\n",
            "_________________________________________________________________\n",
            " Layer (type)                Output Shape              Param #   \n",
            "=================================================================\n",
            " input_12 (InputLayer)       [(None, 4)]               0         \n",
            "                                                                 \n",
            " dense_22 (Dense)            (None, 128)               640       \n",
            "                                                                 \n",
            " dense_23 (Dense)            (None, 2)                 258       \n",
            "                                                                 \n",
            "=================================================================\n",
            "Total params: 898\n",
            "Trainable params: 898\n",
            "Non-trainable params: 0\n",
            "_________________________________________________________________\n"
          ]
        }
      ]
    },
    {
      "cell_type": "markdown",
      "metadata": {
        "id": "UKBEyytgatIx"
      },
      "source": [
        "# Training"
      ]
    },
    {
      "cell_type": "code",
      "metadata": {
        "colab": {
          "base_uri": "https://localhost:8080/"
        },
        "id": "V0pIJQKBwD97",
        "outputId": "8306f221-9846-4411-cdf5-474cfe643b2a"
      },
      "source": [
        "optimizer = keras.optimizers.Adam(learning_rate=10e-4)\n",
        "huber_loss = keras.losses.Huber()\n",
        "action_probs_history = []\n",
        "rewards_history = []\n",
        "running_reward = 0\n",
        "episode_count = 0\n",
        "\n",
        "while True:  # Run until solved\n",
        "    state = env.reset()\n",
        "    episode_reward = 0\n",
        "    with tf.GradientTape() as tape:\n",
        "        for timestep in range(1, max_steps_per_episode):\n",
        "            # env.render(); Adding this line would show the attempts\n",
        "            # of the agent in a pop up window.\n",
        "\n",
        "            state = tf.convert_to_tensor(state)\n",
        "            state = tf.expand_dims(state, 0)\n",
        "\n",
        "            # Predict action probabilities and estimated future rewards\n",
        "            # from environment state\n",
        "            action_probs = model(state)\n",
        "\n",
        "            # Sample action from action probability distribution\n",
        "            action = np.random.choice(num_actions, p=np.squeeze(action_probs))\n",
        "            action_probs_history.append(tf.math.log(action_probs[0, action]))\n",
        "\n",
        "            # Apply the sampled action in our environment\n",
        "            state, reward, done, _ = env.step(action)\n",
        "            rewards_history.append(reward)\n",
        "            episode_reward += reward\n",
        "\n",
        "            if done:\n",
        "                break\n",
        "\n",
        "        # Update running reward to check condition for solving\n",
        "        running_reward = 0.05 * episode_reward + (1 - 0.05) * running_reward\n",
        "\n",
        "        # Calculate expected value from rewards\n",
        "        # - At each timestep what was the total reward received after that timestep\n",
        "        # - Rewards in the past are discounted by multiplying them with gamma\n",
        "        # - These are the labels for our critic\n",
        "        returns = []\n",
        "        discounted_sum = 0\n",
        "        for r in rewards_history[::-1]:\n",
        "            discounted_sum = r + gamma * discounted_sum\n",
        "            returns.insert(0, discounted_sum)\n",
        "\n",
        "        # Normalize\n",
        "        returns = np.array(returns)\n",
        "        returns = (returns - np.mean(returns)) / (np.std(returns) + eps)\n",
        "        returns = returns\n",
        "\n",
        "        # Calculating loss values to update our network\n",
        "        history = zip(action_probs_history, returns)\n",
        "        actor_losses = []\n",
        "        for log_prob, ret in history:\n",
        "            # At this point in history, the critic estimated that we would get a\n",
        "            # total reward = `value` in the future. We took an action with log probability\n",
        "            # of `log_prob` and ended up recieving a total reward = `ret`.\n",
        "            # The actor must be updated so that it predicts an action that leads to\n",
        "            # high rewards (compared to critic's estimate) with high probability.\n",
        "            diff = ret \n",
        "            actor_losses.append(-log_prob * diff)  # actor loss\n",
        "\n",
        "            # The critic must be updated so that it predicts a better estimate of\n",
        "            # the future rewards.\n",
        "            \n",
        "\n",
        "        # Backpropagation\n",
        "        loss_value = sum(actor_losses) \n",
        "        grads = tape.gradient(loss_value, model.trainable_variables)\n",
        "        optimizer.apply_gradients(zip(grads, model.trainable_variables))\n",
        "\n",
        "        # Clear the loss and reward history\n",
        "        action_probs_history.clear()\n",
        "        rewards_history.clear()\n",
        "\n",
        "    # Log details\n",
        "    episode_count += 1\n",
        "    if episode_count % 10 == 0:\n",
        "        template = \"running reward: {:.2f} at episode {}\"\n",
        "        print(template.format(running_reward, episode_count))\n",
        "\n",
        "    if running_reward > 195:  # Condition to consider the task solved\n",
        "        print(\"Solved at episode {}!\".format(episode_count))\n",
        "        break\n"
      ],
      "execution_count": 25,
      "outputs": [
        {
          "output_type": "stream",
          "name": "stdout",
          "text": [
            "running reward: 7.44 at episode 10\n",
            "running reward: 14.55 at episode 20\n",
            "running reward: 16.63 at episode 30\n",
            "running reward: 17.39 at episode 40\n",
            "running reward: 22.48 at episode 50\n",
            "running reward: 23.71 at episode 60\n",
            "running reward: 30.14 at episode 70\n",
            "running reward: 29.01 at episode 80\n",
            "running reward: 33.40 at episode 90\n",
            "running reward: 36.19 at episode 100\n",
            "running reward: 41.22 at episode 110\n",
            "running reward: 43.41 at episode 120\n",
            "running reward: 48.18 at episode 130\n",
            "running reward: 50.16 at episode 140\n",
            "running reward: 57.34 at episode 150\n",
            "running reward: 61.99 at episode 160\n",
            "running reward: 59.67 at episode 170\n",
            "running reward: 65.62 at episode 180\n",
            "running reward: 66.72 at episode 190\n",
            "running reward: 76.28 at episode 200\n",
            "running reward: 79.08 at episode 210\n",
            "running reward: 80.28 at episode 220\n",
            "running reward: 85.58 at episode 230\n",
            "running reward: 103.13 at episode 240\n",
            "running reward: 125.26 at episode 250\n",
            "running reward: 141.72 at episode 260\n",
            "running reward: 151.30 at episode 270\n",
            "running reward: 150.41 at episode 280\n",
            "running reward: 158.53 at episode 290\n",
            "running reward: 164.66 at episode 300\n",
            "running reward: 142.91 at episode 310\n",
            "running reward: 145.50 at episode 320\n",
            "running reward: 157.11 at episode 330\n",
            "running reward: 167.91 at episode 340\n",
            "running reward: 171.82 at episode 350\n",
            "running reward: 170.72 at episode 360\n",
            "running reward: 181.54 at episode 370\n",
            "running reward: 181.62 at episode 380\n",
            "running reward: 174.26 at episode 390\n",
            "running reward: 176.18 at episode 400\n",
            "running reward: 168.11 at episode 410\n",
            "running reward: 175.50 at episode 420\n",
            "running reward: 168.01 at episode 430\n",
            "running reward: 166.15 at episode 440\n",
            "running reward: 169.62 at episode 450\n",
            "running reward: 173.27 at episode 460\n",
            "running reward: 179.14 at episode 470\n",
            "running reward: 184.48 at episode 480\n",
            "running reward: 188.35 at episode 490\n",
            "running reward: 181.09 at episode 500\n",
            "running reward: 182.22 at episode 510\n",
            "running reward: 188.47 at episode 520\n",
            "running reward: 181.42 at episode 530\n",
            "running reward: 188.35 at episode 540\n",
            "running reward: 188.20 at episode 550\n",
            "running reward: 187.68 at episode 560\n",
            "running reward: 191.09 at episode 570\n",
            "running reward: 194.11 at episode 580\n",
            "Solved at episode 584!\n"
          ]
        }
      ]
    }
  ]
}