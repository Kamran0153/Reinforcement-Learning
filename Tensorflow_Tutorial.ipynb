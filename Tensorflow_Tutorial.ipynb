{
  "nbformat": 4,
  "nbformat_minor": 0,
  "metadata": {
    "colab": {
      "name": "Tensorflow_Tutorial.ipynb",
      "provenance": [],
      "collapsed_sections": [],
      "include_colab_link": true
    },
    "kernelspec": {
      "name": "python3",
      "display_name": "Python 3"
    }
  },
  "cells": [
    {
      "cell_type": "markdown",
      "metadata": {
        "id": "view-in-github",
        "colab_type": "text"
      },
      "source": [
        "<a href=\"https://colab.research.google.com/github/mzs0153/ELEC-7970-Reinforcement-Learning/blob/main/Tensorflow_Tutorial.ipynb\" target=\"_parent\"><img src=\"https://colab.research.google.com/assets/colab-badge.svg\" alt=\"Open In Colab\"/></a>"
      ]
    },
    {
      "cell_type": "markdown",
      "metadata": {
        "id": "oVJKayE-P3Oq"
      },
      "source": [
        "# TensorFlow 2 Tutorial\n",
        "\n",
        "We will write codes on Tensorflow 2 in this tutorial. If you want to run any code compatible with TensorFlow 1, you may find some coding examples here, https://github.com/tensorflow/docs/tree/master/site/en/r1. \n",
        "\n",
        "We will cover some basic functionality of TensorFlow 2. If you want to explore further, you can find coding help here, https://www.tensorflow.org/guide. This tutorial is adapted from TensorFlow guide: https://www.tensorflow.org/guide. \n",
        "\n",
        "This tutorial will provide a brief overview of the core concepts and functionality of Keras on the top of TensorFlow 2. Keras is the official high-level API of TensorFlow. There are three ways to create a Keras model with TensorFlow. They are: \\\n",
        "(a) Using sequential API.\\\n",
        "(b) Using Functional API.\\\n",
        "(c) Creating customized layer \\\n",
        "\n",
        "This tutorial will cover the following:\n",
        "1. How to create a neural network model using Keras sequential API.\n",
        "2. How to create a neural network model using Keras functional API. \n",
        "3. How to train, evaluate, and infer with neural network models. \n",
        "4. How to save and load neural network models. \n",
        "5. How to create customized neural network model using Keras and perform customized training.\n",
        "\n",
        "**Installation guide:** No install necessary to run the TensorFlow directly in the browser with Colaboratory. To run TensorFlow on other platforms, you may need to install. You can find the installation guide here, https://www.tensorflow.org/install.\n",
        "\n",
        "\n",
        "---\n",
        "\n",
        "\n"
      ]
    },
    {
      "cell_type": "markdown",
      "metadata": {
        "id": "QFf15TzQSA1Y"
      },
      "source": [
        "# Import Required Python Libraries"
      ]
    },
    {
      "cell_type": "code",
      "metadata": {
        "id": "G5uWnHHOO6EQ",
        "colab": {
          "base_uri": "https://localhost:8080/",
          "height": 34
        },
        "outputId": "c397f08c-9dac-442a-f6ed-7ebd126fa9a9"
      },
      "source": [
        "# TensorFlow and tf.keras\n",
        "import tensorflow as tf\n",
        "from tensorflow import keras\n",
        "from tensorflow.keras import layers\n",
        "\n",
        "# Helper libraries\n",
        "import numpy as np\n",
        "import matplotlib.pyplot as plt\n",
        "\n",
        "# Check the version of TensorFlow\n",
        "print(tf.__version__)"
      ],
      "execution_count": null,
      "outputs": [
        {
          "output_type": "stream",
          "text": [
            "2.3.0\n"
          ],
          "name": "stdout"
        }
      ]
    },
    {
      "cell_type": "markdown",
      "metadata": {
        "id": "sVOIKNWtWgeg"
      },
      "source": [
        "\n",
        "\n",
        "---\n",
        "\n",
        "\n",
        "\n",
        "# 1. Keras Sequential Model"
      ]
    },
    {
      "cell_type": "markdown",
      "metadata": {
        "id": "MRwhMAZ14BHj"
      },
      "source": [
        "A [Keras Sequential model](https://www.tensorflow.org/guide/keras/sequential_model) is appropriate for a plain stack of layers where each layer has exactly one input tensor and one output tensor. You can find the definition of tensor here, https://en.wikipedia.org/wiki/Tensor."
      ]
    },
    {
      "cell_type": "markdown",
      "metadata": {
        "id": "4ZPI9EKTW1i6"
      },
      "source": [
        "In this section, will create a neural network with 4 layers that are connected in sequence:\n",
        "\n",
        "   Input Layer\n",
        "\n",
        "-> Dense Layer 2 hidden nodes Relu activation\n",
        "\n",
        "-> Dense Layer 3 hidden nodes Relu activation\n",
        "\n",
        "-> Dense Layer 4 nodes Output "
      ]
    },
    {
      "cell_type": "markdown",
      "metadata": {
        "id": "EtcK0w-3XlFU"
      },
      "source": [
        "We create a squential model using Keras sequential constructor"
      ]
    },
    {
      "cell_type": "code",
      "metadata": {
        "id": "DdrshxX3Xg5b"
      },
      "source": [
        "model = keras.Sequential(\n",
        "    [\n",
        "        layers.Dense(2, activation=\"relu\"),\n",
        "        layers.Dense(3, activation=\"relu\"),\n",
        "        layers.Dense(4),\n",
        "    ]\n",
        ")"
      ],
      "execution_count": null,
      "outputs": []
    },
    {
      "cell_type": "markdown",
      "metadata": {
        "id": "rwS4Xp8SX6Xi"
      },
      "source": [
        "You can also create an equivalent Sequential model incrementally via the `keras.Sequential().add()` method:"
      ]
    },
    {
      "cell_type": "code",
      "metadata": {
        "id": "jSyNa7nkX0ND"
      },
      "source": [
        "model = keras.Sequential()\n",
        "model.add(layers.Dense(2, activation=\"relu\"))\n",
        "model.add(layers.Dense(3, activation=\"relu\"))\n",
        "model.add(layers.Dense(4))"
      ],
      "execution_count": null,
      "outputs": []
    },
    {
      "cell_type": "markdown",
      "metadata": {
        "id": "DFuSXgvKYOAD"
      },
      "source": [
        "Also note that the Sequential constructor accepts a name argument:"
      ]
    },
    {
      "cell_type": "code",
      "metadata": {
        "id": "l5KnL0rSYSGa"
      },
      "source": [
        "model = keras.Sequential(name=\"my_sequential\")\n",
        "model.add(layers.Dense(2, activation=\"relu\", name=\"layer1\"))\n",
        "model.add(layers.Dense(3, activation=\"relu\", name=\"layer2\"))\n",
        "model.add(layers.Dense(4, name=\"Output\"))"
      ],
      "execution_count": null,
      "outputs": []
    },
    {
      "cell_type": "markdown",
      "metadata": {
        "id": "F2B0Iw2hY0gQ"
      },
      "source": [
        "Till now, we did not specify the input shape. Generally, all layers in Keras need to know the shape of their inputs in order to be able to create their weights. So when you create a layer like this, initially, it has no weights."
      ]
    },
    {
      "cell_type": "code",
      "metadata": {
        "id": "rRve77JXYaiU",
        "colab": {
          "base_uri": "https://localhost:8080/",
          "height": 34
        },
        "outputId": "d6fee689-3b24-4e0e-f60d-effddebdff1a"
      },
      "source": [
        "layer = layers.Dense(3)\n",
        "layer.weights  # Empty"
      ],
      "execution_count": null,
      "outputs": [
        {
          "output_type": "execute_result",
          "data": {
            "text/plain": [
              "[]"
            ]
          },
          "metadata": {
            "tags": []
          },
          "execution_count": 5
        }
      ]
    },
    {
      "cell_type": "markdown",
      "metadata": {
        "id": "Em6LPOjVZJNb"
      },
      "source": [
        "Its weights are created at the first time the model is called on an input. The shape of the weights depends on the shape of the input:"
      ]
    },
    {
      "cell_type": "code",
      "metadata": {
        "id": "qtctx_Y6ZKn0",
        "colab": {
          "base_uri": "https://localhost:8080/",
          "height": 119
        },
        "outputId": "3d6783ca-80bd-45a9-bf67-269dc3248781"
      },
      "source": [
        "# Call layer on a test input\n",
        "x = tf.ones((1, 4))\n",
        "y = layer(x)\n",
        "layer.weights  # Now it has weights, of shape (4, 3) and (3,)"
      ],
      "execution_count": null,
      "outputs": [
        {
          "output_type": "execute_result",
          "data": {
            "text/plain": [
              "[<tf.Variable 'dense_6/kernel:0' shape=(4, 3) dtype=float32, numpy=\n",
              " array([[-0.9140491 ,  0.20731795,  0.33607507],\n",
              "        [ 0.6031678 , -0.71878296,  0.05693799],\n",
              "        [ 0.3689922 , -0.05298841, -0.8691015 ],\n",
              "        [-0.31252927,  0.6698152 , -0.87393713]], dtype=float32)>,\n",
              " <tf.Variable 'dense_6/bias:0' shape=(3,) dtype=float32, numpy=array([0., 0., 0.], dtype=float32)>]"
            ]
          },
          "metadata": {
            "tags": []
          },
          "execution_count": 6
        }
      ]
    },
    {
      "cell_type": "markdown",
      "metadata": {
        "id": "vsKQCT5eZZoA"
      },
      "source": [
        "This principle also applies to Sequential models. When you instantiate a Sequential model without an input shape, it isn't \"*built*\": it has no weights and calling `layer.weights` results in an error. The weights are created when the model first sees some input data:"
      ]
    },
    {
      "cell_type": "code",
      "metadata": {
        "id": "KVrJPGhEZbN1",
        "colab": {
          "base_uri": "https://localhost:8080/",
          "height": 306
        },
        "outputId": "e50121d8-3835-4e2a-b492-078fa2831d9f"
      },
      "source": [
        "model = keras.Sequential(\n",
        "    [\n",
        "        layers.Dense(2, activation=\"relu\"),\n",
        "        layers.Dense(3, activation=\"relu\"),\n",
        "        layers.Dense(4),\n",
        "    ]\n",
        ")  # No weights at this stage!\n",
        "\n",
        "# At this point, you can't do this:\n",
        "#model.weights\n",
        "\n",
        "# You also can't do this:\n",
        "# model.summary()\n",
        "\n",
        "# Call the model on a test input\n",
        "x = tf.ones((1, 4))\n",
        "y = model(x)\n",
        "print(\"Number of weights after calling the model:\", len(model.weights))  # 6\n",
        "model.weights"
      ],
      "execution_count": null,
      "outputs": [
        {
          "output_type": "stream",
          "text": [
            "Number of weights after calling the model: 6\n"
          ],
          "name": "stdout"
        },
        {
          "output_type": "execute_result",
          "data": {
            "text/plain": [
              "[<tf.Variable 'dense_10/kernel:0' shape=(4, 2) dtype=float32, numpy=\n",
              " array([[ 0.46153975,  0.4544208 ],\n",
              "        [-0.53859496, -0.08803511],\n",
              "        [ 0.07010365,  0.26877928],\n",
              "        [ 0.7486546 , -0.08078718]], dtype=float32)>,\n",
              " <tf.Variable 'dense_10/bias:0' shape=(2,) dtype=float32, numpy=array([0., 0.], dtype=float32)>,\n",
              " <tf.Variable 'dense_11/kernel:0' shape=(2, 3) dtype=float32, numpy=\n",
              " array([[-0.04993367,  0.48126078, -0.6588844 ],\n",
              "        [-0.63908297, -0.5044551 ,  0.8055172 ]], dtype=float32)>,\n",
              " <tf.Variable 'dense_11/bias:0' shape=(3,) dtype=float32, numpy=array([0., 0., 0.], dtype=float32)>,\n",
              " <tf.Variable 'dense_12/kernel:0' shape=(3, 4) dtype=float32, numpy=\n",
              " array([[ 0.83002007,  0.19362426, -0.25414413,  0.6019441 ],\n",
              "        [ 0.6247661 , -0.5091604 ,  0.07101852, -0.17300344],\n",
              "        [-0.7778369 ,  0.19345593, -0.30095297, -0.79662436]],\n",
              "       dtype=float32)>,\n",
              " <tf.Variable 'dense_12/bias:0' shape=(4,) dtype=float32, numpy=array([0., 0., 0., 0.], dtype=float32)>]"
            ]
          },
          "metadata": {
            "tags": []
          },
          "execution_count": 8
        }
      ]
    },
    {
      "cell_type": "markdown",
      "metadata": {
        "id": "Jfu5-aFvZqmk"
      },
      "source": [
        "Once a model is \"*built*\", you can call the `keras.Sequential().summary()` method to display its contents:"
      ]
    },
    {
      "cell_type": "code",
      "metadata": {
        "id": "CYOA_i3yZthB",
        "colab": {
          "base_uri": "https://localhost:8080/",
          "height": 255
        },
        "outputId": "c933016b-ccbb-407f-fae1-cc05d4641fcb"
      },
      "source": [
        "model.summary()"
      ],
      "execution_count": null,
      "outputs": [
        {
          "output_type": "stream",
          "text": [
            "Model: \"sequential_3\"\n",
            "_________________________________________________________________\n",
            "Layer (type)                 Output Shape              Param #   \n",
            "=================================================================\n",
            "dense_10 (Dense)             (1, 2)                    10        \n",
            "_________________________________________________________________\n",
            "dense_11 (Dense)             (1, 3)                    9         \n",
            "_________________________________________________________________\n",
            "dense_12 (Dense)             (1, 4)                    16        \n",
            "=================================================================\n",
            "Total params: 35\n",
            "Trainable params: 35\n",
            "Non-trainable params: 0\n",
            "_________________________________________________________________\n"
          ],
          "name": "stdout"
        }
      ]
    },
    {
      "cell_type": "markdown",
      "metadata": {
        "id": "Q_BlqT9daLyF"
      },
      "source": [
        "We can start our model by passing an Input object to our model, so that the model knows its input shape from the start:"
      ]
    },
    {
      "cell_type": "code",
      "metadata": {
        "id": "4tEAOD5saXnj",
        "colab": {
          "base_uri": "https://localhost:8080/",
          "height": 255
        },
        "outputId": "e1cabadb-e287-42bb-c0e9-ef881306f7ab"
      },
      "source": [
        "model = keras.Sequential()\n",
        "model.add(keras.Input(shape=(4,)))\n",
        "model.add(layers.Dense(2, activation=\"relu\"))\n",
        "model.add(layers.Dense(3, activation=\"relu\", name=\"layer2\"))\n",
        "model.add(layers.Dense(4, name=\"layer3\"))\n",
        "model.summary()"
      ],
      "execution_count": null,
      "outputs": [
        {
          "output_type": "stream",
          "text": [
            "Model: \"sequential_4\"\n",
            "_________________________________________________________________\n",
            "Layer (type)                 Output Shape              Param #   \n",
            "=================================================================\n",
            "dense_13 (Dense)             (None, 2)                 10        \n",
            "_________________________________________________________________\n",
            "layer2 (Dense)               (None, 3)                 9         \n",
            "_________________________________________________________________\n",
            "layer3 (Dense)               (None, 4)                 16        \n",
            "=================================================================\n",
            "Total params: 35\n",
            "Trainable params: 35\n",
            "Non-trainable params: 0\n",
            "_________________________________________________________________\n"
          ],
          "name": "stdout"
        }
      ]
    },
    {
      "cell_type": "code",
      "metadata": {
        "id": "7h-aCLaDaoB-",
        "colab": {
          "base_uri": "https://localhost:8080/",
          "height": 255
        },
        "outputId": "e6d0b326-9568-4a71-fa10-cfb9e9cf97be"
      },
      "source": [
        "model = keras.Sequential(\n",
        "    [\n",
        "        layers.Dense(2, activation=\"relu\", input_shape=(4,)),\n",
        "        layers.Dense(3, activation=\"relu\"),\n",
        "        layers.Dense(4),\n",
        "    ]\n",
        ") \n",
        "model.summary()"
      ],
      "execution_count": null,
      "outputs": [
        {
          "output_type": "stream",
          "text": [
            "Model: \"sequential_5\"\n",
            "_________________________________________________________________\n",
            "Layer (type)                 Output Shape              Param #   \n",
            "=================================================================\n",
            "dense_14 (Dense)             (None, 2)                 10        \n",
            "_________________________________________________________________\n",
            "dense_15 (Dense)             (None, 3)                 9         \n",
            "_________________________________________________________________\n",
            "dense_16 (Dense)             (None, 4)                 16        \n",
            "=================================================================\n",
            "Total params: 35\n",
            "Trainable params: 35\n",
            "Non-trainable params: 0\n",
            "_________________________________________________________________\n"
          ],
          "name": "stdout"
        }
      ]
    },
    {
      "cell_type": "markdown",
      "metadata": {
        "id": "W_tYSFEnbYFJ"
      },
      "source": [
        "\n",
        "\n",
        "---\n",
        "\n",
        "\n",
        "# 2. Keras Functional Model"
      ]
    },
    {
      "cell_type": "markdown",
      "metadata": {
        "id": "BQfYTvv87sch"
      },
      "source": [
        "The Keras functional API is a way to create models that are more flexible than the `tf.keras.Sequential` API. The [Keras functional API](https://www.tensorflow.org/guide/keras/functional) can handle models with \n",
        "non-linear topology, shared layers, and even multiple inputs or outputs."
      ]
    },
    {
      "cell_type": "markdown",
      "metadata": {
        "id": "uQncZbWjb65Z"
      },
      "source": [
        "Using functional API, at first we will create the same model that we have created using sequantial API. To build this model using the functional API, start by creating an input layer. You can create a new layer one by one by calling the output of existing model as the input of the new layer. "
      ]
    },
    {
      "cell_type": "code",
      "metadata": {
        "id": "ssENcrADbrDL"
      },
      "source": [
        "inputs = keras.Input(shape=(4,))\n",
        "layer1 = layers.Dense(2, activation=\"relu\")(inputs)\n",
        "layer2 = layers.Dense(3, activation=\"relu\")(layer1)\n",
        "Outputs = layers.Dense(4, activation=\"relu\")(layer2)"
      ],
      "execution_count": null,
      "outputs": []
    },
    {
      "cell_type": "markdown",
      "metadata": {
        "id": "EvdUrtLOc8uG"
      },
      "source": [
        "At this point, you can create a Model by specifying its inputs and outputs in the graph of layers."
      ]
    },
    {
      "cell_type": "code",
      "metadata": {
        "id": "o-xhaORzcw1t",
        "colab": {
          "base_uri": "https://localhost:8080/",
          "height": 289
        },
        "outputId": "cf142ff7-c50c-4695-eb45-5d87b6cbade4"
      },
      "source": [
        "model = keras.Model(inputs=inputs, outputs=Outputs)\n",
        "model.summary()"
      ],
      "execution_count": null,
      "outputs": [
        {
          "output_type": "stream",
          "text": [
            "Model: \"functional_1\"\n",
            "_________________________________________________________________\n",
            "Layer (type)                 Output Shape              Param #   \n",
            "=================================================================\n",
            "input_2 (InputLayer)         [(None, 4)]               0         \n",
            "_________________________________________________________________\n",
            "dense_17 (Dense)             (None, 2)                 10        \n",
            "_________________________________________________________________\n",
            "dense_18 (Dense)             (None, 3)                 9         \n",
            "_________________________________________________________________\n",
            "dense_19 (Dense)             (None, 4)                 16        \n",
            "=================================================================\n",
            "Total params: 35\n",
            "Trainable params: 35\n",
            "Non-trainable params: 0\n",
            "_________________________________________________________________\n"
          ],
          "name": "stdout"
        }
      ]
    },
    {
      "cell_type": "markdown",
      "metadata": {
        "id": "TNAabPVOdH0t"
      },
      "source": [
        "You can also plot the model as a graph."
      ]
    },
    {
      "cell_type": "code",
      "metadata": {
        "id": "crYz6eFIdJC4",
        "colab": {
          "base_uri": "https://localhost:8080/",
          "height": 422
        },
        "outputId": "8b045551-3400-432c-d37e-589b1d8a7581"
      },
      "source": [
        "keras.utils.plot_model(model, \"my_first_model.png\", show_shapes=True)"
      ],
      "execution_count": null,
      "outputs": [
        {
          "output_type": "execute_result",
          "data": {
            "image/png": "[encoded data removed]",
            "text/plain": [
              "<IPython.core.display.Image object>"
            ]
          },
          "metadata": {
            "tags": []
          },
          "execution_count": 15
        }
      ]
    },
    {
      "cell_type": "markdown",
      "metadata": {
        "id": "KTzXiJe68c61"
      },
      "source": [
        "Now, we will see an example to show the flexibility of Keras functional API."
      ]
    },
    {
      "cell_type": "code",
      "metadata": {
        "id": "8nVj7NuJ5I1v",
        "colab": {
          "base_uri": "https://localhost:8080/",
          "height": 644
        },
        "outputId": "0cf57f0e-05a6-4517-d383-a48a22b2bb6d"
      },
      "source": [
        "input1 = keras.Input(shape=(4,))\n",
        "layer1 = layers.Dense(2, activation=\"relu\")(input1)\n",
        "x= layers.Dense(2, activation=\"relu\")(layer1)\n",
        "y=layers.add([x, layer1])\n",
        "layer2 = layers.Dense(3, activation=\"relu\")(y)\n",
        "Outputs = layers.Dense(4, activation=\"relu\")(layer2)\n",
        "model = keras.Model(inputs=input1, outputs=Outputs)\n",
        "keras.utils.plot_model(model, \"my_first_model1.png\", show_shapes=True)\n"
      ],
      "execution_count": null,
      "outputs": [
        {
          "output_type": "execute_result",
          "data": {
            "image/png": "[encoded data removed]",
            "text/plain": [
              "<IPython.core.display.Image object>"
            ]
          },
          "metadata": {
            "tags": []
          },
          "execution_count": 16
        }
      ]
    },
    {
      "cell_type": "markdown",
      "metadata": {
        "id": "-qykuwiwVfxx"
      },
      "source": [
        "\n",
        "\n",
        "---\n",
        "\n",
        "\n",
        "# 3. Training, evaluation, and inference"
      ]
    },
    {
      "cell_type": "markdown",
      "metadata": {
        "id": "gDZhKbaaV-PM"
      },
      "source": [
        "Training, evaluation, and inference work exactly in the same way for models built using the Sequential API and functional API.\n",
        "\n",
        "Here, load the MNIST image data, reshape it into vectors, fit the model on the data (while monitoring performance on a validation split), then evaluate the model on the test data:"
      ]
    },
    {
      "cell_type": "code",
      "metadata": {
        "id": "iMMeiU87durt",
        "colab": {
          "base_uri": "https://localhost:8080/",
          "height": 51
        },
        "outputId": "200ad59b-7518-45bd-f58e-d0eafb98d8be"
      },
      "source": [
        "(x_train, y_train), (x_test, y_test) = keras.datasets.mnist.load_data()"
      ],
      "execution_count": null,
      "outputs": [
        {
          "output_type": "stream",
          "text": [
            "Downloading data from https://storage.googleapis.com/tensorflow/tf-keras-datasets/mnist.npz\n",
            "11493376/11490434 [==============================] - 0s 0us/step\n"
          ],
          "name": "stdout"
        }
      ]
    },
    {
      "cell_type": "markdown",
      "metadata": {
        "id": "1n_5zoiP9Bvk"
      },
      "source": [
        "Check the input shape."
      ]
    },
    {
      "cell_type": "code",
      "metadata": {
        "id": "h8ExLQE7iC7H",
        "colab": {
          "base_uri": "https://localhost:8080/",
          "height": 34
        },
        "outputId": "a2b02b38-c3a4-444a-aec5-b2f317d78ed7"
      },
      "source": [
        "x_train.shape"
      ],
      "execution_count": null,
      "outputs": [
        {
          "output_type": "execute_result",
          "data": {
            "text/plain": [
              "(60000, 28, 28)"
            ]
          },
          "metadata": {
            "tags": []
          },
          "execution_count": 18
        }
      ]
    },
    {
      "cell_type": "code",
      "metadata": {
        "id": "ntTz9twoF_Hh",
        "colab": {
          "base_uri": "https://localhost:8080/",
          "height": 34
        },
        "outputId": "fc2a271c-0ea2-41bf-8a99-8fbb769fd023"
      },
      "source": [
        "28*28"
      ],
      "execution_count": null,
      "outputs": [
        {
          "output_type": "execute_result",
          "data": {
            "text/plain": [
              "784"
            ]
          },
          "metadata": {
            "tags": []
          },
          "execution_count": 19
        }
      ]
    },
    {
      "cell_type": "markdown",
      "metadata": {
        "id": "cRE3Cu2K9Tdn"
      },
      "source": [
        "Create the model, using one of the methods explained above."
      ]
    },
    {
      "cell_type": "code",
      "metadata": {
        "id": "O3ZQahVEeKCJ",
        "colab": {
          "base_uri": "https://localhost:8080/",
          "height": 289
        },
        "outputId": "97fc5303-60e6-4c45-e4b8-ff8b724763a0"
      },
      "source": [
        "inputs = keras.Input(shape=(784,))\n",
        "layer1 = layers.Dense(64, activation=\"relu\")(inputs)\n",
        "layer2 = layers.Dense(64, activation=\"relu\")(layer1)\n",
        "Outputs = layers.Dense(10, activation=\"relu\")(layer2)\n",
        "\n",
        "model = keras.Model(inputs=inputs, outputs=Outputs)\n",
        "model.summary()\n"
      ],
      "execution_count": null,
      "outputs": [
        {
          "output_type": "stream",
          "text": [
            "Model: \"functional_5\"\n",
            "_________________________________________________________________\n",
            "Layer (type)                 Output Shape              Param #   \n",
            "=================================================================\n",
            "input_4 (InputLayer)         [(None, 784)]             0         \n",
            "_________________________________________________________________\n",
            "dense_24 (Dense)             (None, 64)                50240     \n",
            "_________________________________________________________________\n",
            "dense_25 (Dense)             (None, 64)                4160      \n",
            "_________________________________________________________________\n",
            "dense_26 (Dense)             (None, 10)                650       \n",
            "=================================================================\n",
            "Total params: 55,050\n",
            "Trainable params: 55,050\n",
            "Non-trainable params: 0\n",
            "_________________________________________________________________\n"
          ],
          "name": "stdout"
        }
      ]
    },
    {
      "cell_type": "markdown",
      "metadata": {
        "id": "cjKoK7dr9Yx5"
      },
      "source": [
        "Reshape input from (28, 28, ) to (784, ) "
      ]
    },
    {
      "cell_type": "code",
      "metadata": {
        "id": "s78cvE639fAE"
      },
      "source": [
        "x_train = x_train.reshape(60000, 784).astype(\"float32\") / 255\n",
        "x_test = x_test.reshape(10000, 784).astype(\"float32\") / 255"
      ],
      "execution_count": null,
      "outputs": []
    },
    {
      "cell_type": "markdown",
      "metadata": {
        "id": "hVcOv4YL9vOs"
      },
      "source": [
        "Compile the model. The objective of compiling the model is to specify the training configuration (optimizer, loss, metrics)"
      ]
    },
    {
      "cell_type": "code",
      "metadata": {
        "id": "RNfzAn4K-M3O"
      },
      "source": [
        "model.compile(\n",
        "    loss=keras.losses.SparseCategoricalCrossentropy(from_logits=True),\n",
        "    optimizer=keras.optimizers.RMSprop(),\n",
        "    metrics=[\"accuracy\"],\n",
        ")\n"
      ],
      "execution_count": null,
      "outputs": []
    },
    {
      "cell_type": "markdown",
      "metadata": {
        "id": "upvgR4VN-X5v"
      },
      "source": [
        "We call `fit()`, which will train the model by slicing the data into \"batches\" of size \"batch_size\", and repeatedly iterating over the entire dataset for a given number of \"epochs\"."
      ]
    },
    {
      "cell_type": "code",
      "metadata": {
        "id": "vPbt3C7g-a5Y",
        "colab": {
          "base_uri": "https://localhost:8080/",
          "height": 187
        },
        "outputId": "95a539c9-7ea5-4121-9222-743526124364"
      },
      "source": [
        "history = model.fit(x_train, y_train, batch_size=64, epochs=5, validation_split=0.2)"
      ],
      "execution_count": null,
      "outputs": [
        {
          "output_type": "stream",
          "text": [
            "Epoch 1/5\n",
            "750/750 [==============================] - 2s 2ms/step - loss: 0.2617 - accuracy: 0.8937 - val_loss: 0.3343 - val_accuracy: 0.8790\n",
            "Epoch 2/5\n",
            "750/750 [==============================] - 2s 2ms/step - loss: 0.2578 - accuracy: 0.8946 - val_loss: 0.3411 - val_accuracy: 0.8768\n",
            "Epoch 3/5\n",
            "750/750 [==============================] - 2s 2ms/step - loss: 0.2552 - accuracy: 0.8951 - val_loss: 0.3406 - val_accuracy: 0.8766\n",
            "Epoch 4/5\n",
            "750/750 [==============================] - 2s 2ms/step - loss: 0.2521 - accuracy: 0.8960 - val_loss: 0.3427 - val_accuracy: 0.8782\n",
            "Epoch 5/5\n",
            "750/750 [==============================] - 2s 2ms/step - loss: 0.2493 - accuracy: 0.8962 - val_loss: 0.3511 - val_accuracy: 0.8773\n"
          ],
          "name": "stdout"
        }
      ]
    },
    {
      "cell_type": "code",
      "metadata": {
        "id": "q-1pYAVmHMjm",
        "colab": {
          "base_uri": "https://localhost:8080/",
          "height": 34
        },
        "outputId": "a3e1d1d2-9d24-40be-9f56-1b56bf89ade7"
      },
      "source": [
        ""
      ],
      "execution_count": null,
      "outputs": [
        {
          "output_type": "execute_result",
          "data": {
            "text/plain": [
              "750.0"
            ]
          },
          "metadata": {
            "tags": []
          },
          "execution_count": 25
        }
      ]
    },
    {
      "cell_type": "markdown",
      "metadata": {
        "id": "KUaFe6bW-v-4"
      },
      "source": [
        "Now, we will evaluate the trained model using function `evaluate()`"
      ]
    },
    {
      "cell_type": "code",
      "metadata": {
        "id": "IjcYkLgk-3Sj",
        "colab": {
          "base_uri": "https://localhost:8080/",
          "height": 68
        },
        "outputId": "10688ae9-ea98-4471-f203-e828d588dd1a"
      },
      "source": [
        "test_scores = model.evaluate(x_test, y_test, verbose=2)\n",
        "print(\"Test loss:\", test_scores[0])\n",
        "print(\"Test accuracy:\", test_scores[1])"
      ],
      "execution_count": null,
      "outputs": [
        {
          "output_type": "stream",
          "text": [
            "313/313 - 0s - loss: 0.3187 - accuracy: 0.8806\n",
            "Test loss: 0.3186963200569153\n",
            "Test accuracy: 0.8805999755859375\n"
          ],
          "name": "stdout"
        }
      ]
    },
    {
      "cell_type": "code",
      "metadata": {
        "id": "6k4UxCEZ_YmN",
        "colab": {
          "base_uri": "https://localhost:8080/",
          "height": 51
        },
        "outputId": "25a59947-c852-4153-cb69-5cb969679bde"
      },
      "source": [
        "sample=100\n",
        "input= x_test[sample:sample+1]\n",
        "y_pred = model(input).numpy()\n",
        "print(y_pred)"
      ],
      "execution_count": null,
      "outputs": [
        {
          "output_type": "stream",
          "text": [
            "[[ 0.          0.          0.          0.          0.35056072  0.\n",
            "  14.613229    0.          0.          0.        ]]\n"
          ],
          "name": "stdout"
        }
      ]
    },
    {
      "cell_type": "code",
      "metadata": {
        "id": "IXR0DNlvBK1K"
      },
      "source": [
        "Probability=tf.nn.softmax(y_pred).numpy()"
      ],
      "execution_count": null,
      "outputs": []
    },
    {
      "cell_type": "code",
      "metadata": {
        "id": "DgkSRsxOBQ9h",
        "colab": {
          "base_uri": "https://localhost:8080/",
          "height": 34
        },
        "outputId": "80a7f664-8fa2-4592-bf52-a2fede6d4ebd"
      },
      "source": [
        "np.argmax(Probability)"
      ],
      "execution_count": null,
      "outputs": [
        {
          "output_type": "execute_result",
          "data": {
            "text/plain": [
              "6"
            ]
          },
          "metadata": {
            "tags": []
          },
          "execution_count": 29
        }
      ]
    },
    {
      "cell_type": "markdown",
      "metadata": {
        "id": "9voeN1lohgh4"
      },
      "source": [
        "\n",
        "\n",
        "---\n",
        "\n",
        "\n",
        "# 4. Save and load a model\n",
        "Nueral network models can be saved in the same way for the models built based on Sequential API and functional API. The standard way to save a functional model is to call `model.save()` to save the entire model as a single file. You can later recreate the same model from this file, even if the code that built the model is no longer available.\n",
        "\n",
        "This saved file includes:\n",
        "\n",
        "1. model architecture\n",
        "2. model weight values (that were learned during training)\n",
        "3. model training config, if any (as passed to compile)\n",
        "4. optimizer and its state, if any (to restart training where you left off)\n",
        "\n",
        "https://www.tensorflow.org/guide/keras/save_and_serialize/"
      ]
    },
    {
      "cell_type": "code",
      "metadata": {
        "id": "Djq5RcjjgWpm",
        "colab": {
          "base_uri": "https://localhost:8080/",
          "height": 179
        },
        "outputId": "ca4fe5b7-5dec-47ac-b6f9-95b92d45ae94"
      },
      "source": [
        "model.save(\"path_to_my_model\")\n",
        "del model\n",
        "# Recreate the exact same model purely from the file:\n",
        "model1 = keras.models.load_model(\"path_to_my_model\")"
      ],
      "execution_count": null,
      "outputs": [
        {
          "output_type": "stream",
          "text": [
            "WARNING:tensorflow:From /usr/local/lib/python3.6/dist-packages/tensorflow/python/training/tracking/tracking.py:111: Model.state_updates (from tensorflow.python.keras.engine.training) is deprecated and will be removed in a future version.\n",
            "Instructions for updating:\n",
            "This property should not be used in TensorFlow 2.0, as updates are applied automatically.\n",
            "WARNING:tensorflow:From /usr/local/lib/python3.6/dist-packages/tensorflow/python/training/tracking/tracking.py:111: Layer.updates (from tensorflow.python.keras.engine.base_layer) is deprecated and will be removed in a future version.\n",
            "Instructions for updating:\n",
            "This property should not be used in TensorFlow 2.0, as updates are applied automatically.\n",
            "INFO:tensorflow:Assets written to: path_to_my_model/assets\n"
          ],
          "name": "stdout"
        }
      ]
    },
    {
      "cell_type": "code",
      "metadata": {
        "id": "hj-A5jdRgZFW",
        "colab": {
          "base_uri": "https://localhost:8080/",
          "height": 289
        },
        "outputId": "0d900d43-8d03-474b-c878-4cdb4afb82d8"
      },
      "source": [
        "model1.summary()"
      ],
      "execution_count": null,
      "outputs": [
        {
          "output_type": "stream",
          "text": [
            "Model: \"functional_5\"\n",
            "_________________________________________________________________\n",
            "Layer (type)                 Output Shape              Param #   \n",
            "=================================================================\n",
            "input_4 (InputLayer)         [(None, 784)]             0         \n",
            "_________________________________________________________________\n",
            "dense_24 (Dense)             (None, 64)                50240     \n",
            "_________________________________________________________________\n",
            "dense_25 (Dense)             (None, 64)                4160      \n",
            "_________________________________________________________________\n",
            "dense_26 (Dense)             (None, 10)                650       \n",
            "=================================================================\n",
            "Total params: 55,050\n",
            "Trainable params: 55,050\n",
            "Non-trainable params: 0\n",
            "_________________________________________________________________\n"
          ],
          "name": "stdout"
        }
      ]
    },
    {
      "cell_type": "markdown",
      "metadata": {
        "id": "-K1IpC_QQ2sl"
      },
      "source": [
        "\n",
        "\n",
        "---\n",
        "\n",
        "\n",
        "# 5. Customized model and customized training "
      ]
    },
    {
      "cell_type": "markdown",
      "metadata": {
        "id": "7fysdz8HRU7x"
      },
      "source": [
        "First, we will create [customized Layer](https://www.tensorflow.org/guide/keras/custom_layers_and_models) class: the combination of state (weights) and some computation.\n",
        "One of the central abstraction in Keras is the Layer class. A layer encapsulates both a state (the layer's \"weights\") and a transformation from inputs to outputs (a \"call\", the layer's forward pass).\n",
        "\n",
        "Here's a densely connected layer. It has a state: the variables w and b."
      ]
    },
    {
      "cell_type": "code",
      "metadata": {
        "id": "rdhnoYGfQ6wb"
      },
      "source": [
        "class Linear(keras.layers.Layer):\n",
        "    def __init__(self, units):\n",
        "        super(Linear, self).__init__()\n",
        "        self.units = units\n",
        "\n",
        "    def build(self, input_shape):\n",
        "        self.w = self.add_weight(\n",
        "            shape=(input_shape[-1], self.units),\n",
        "            initializer=\"random_normal\",\n",
        "            trainable=True,\n",
        "        )\n",
        "        self.b = self.add_weight(\n",
        "            shape=(self.units,), initializer=\"random_normal\", trainable=False\n",
        "        )\n",
        "\n",
        "    def call(self, inputs):\n",
        "        return tf.matmul(inputs, self.w) + self.b\n"
      ],
      "execution_count": null,
      "outputs": []
    },
    {
      "cell_type": "markdown",
      "metadata": {
        "id": "Wlyrb_7wRe9a"
      },
      "source": [
        "You would use a layer by calling it on some tensor input(s), much like a Python function."
      ]
    },
    {
      "cell_type": "code",
      "metadata": {
        "id": "ZA27STfcRgGZ",
        "colab": {
          "base_uri": "https://localhost:8080/",
          "height": 68
        },
        "outputId": "e73eb638-67cf-4583-bc2d-7563b447e96d"
      },
      "source": [
        "x = tf.ones((2, 2))\n",
        "linear_layer = Linear(4)\n",
        "y = linear_layer(x)\n",
        "print(y)"
      ],
      "execution_count": null,
      "outputs": [
        {
          "output_type": "stream",
          "text": [
            "tf.Tensor(\n",
            "[[-0.02897494 -0.09011032 -0.01477186 -0.0339437 ]\n",
            " [-0.02897494 -0.09011032 -0.01477186 -0.0339437 ]], shape=(2, 4), dtype=float32)\n"
          ],
          "name": "stdout"
        }
      ]
    },
    {
      "cell_type": "markdown",
      "metadata": {
        "id": "J45o7o84DuRr"
      },
      "source": [
        "Now, we will create the same Sequential model we have created previously using customized dense layer."
      ]
    },
    {
      "cell_type": "code",
      "metadata": {
        "id": "4VWuQFL7wyQH",
        "colab": {
          "base_uri": "https://localhost:8080/",
          "height": 255
        },
        "outputId": "b51a9538-90d5-4811-c876-88f184b36796"
      },
      "source": [
        "x = tf.ones((1,4))\n",
        "model = keras.Sequential(\n",
        "    [\n",
        "       Linear(2),\n",
        "       Linear(3),\n",
        "       Linear(4),\n",
        "    ]\n",
        ") \n",
        "\n",
        "y=model(x)\n",
        "model.summary()"
      ],
      "execution_count": null,
      "outputs": [
        {
          "output_type": "stream",
          "text": [
            "Model: \"sequential_7\"\n",
            "_________________________________________________________________\n",
            "Layer (type)                 Output Shape              Param #   \n",
            "=================================================================\n",
            "linear_4 (Linear)            (1, 2)                    10        \n",
            "_________________________________________________________________\n",
            "linear_5 (Linear)            (1, 3)                    9         \n",
            "_________________________________________________________________\n",
            "linear_6 (Linear)            (1, 4)                    16        \n",
            "=================================================================\n",
            "Total params: 35\n",
            "Trainable params: 26\n",
            "Non-trainable params: 9\n",
            "_________________________________________________________________\n"
          ],
          "name": "stdout"
        }
      ]
    },
    {
      "cell_type": "code",
      "metadata": {
        "id": "3H_nfS1TRpQW"
      },
      "source": [
        "assert linear_layer.weights == [linear_layer.w, linear_layer.b]"
      ],
      "execution_count": null,
      "outputs": []
    },
    {
      "cell_type": "code",
      "metadata": {
        "id": "-IlZW4bVSPi4"
      },
      "source": [
        "print(linear_layer.weights)"
      ],
      "execution_count": null,
      "outputs": []
    },
    {
      "cell_type": "markdown",
      "metadata": {
        "id": "ik28At3OeQK_"
      },
      "source": [
        "# Customized Training"
      ]
    },
    {
      "cell_type": "markdown",
      "metadata": {
        "id": "jhPnK9dzeW32"
      },
      "source": [
        "We can do a customized training using automatic differentiation method.  [Automatic differentiation in TensorFlow 2](https://www.tensorflow.org/guide/autodiff) uses GradientTape. GradientTape scope enables you to retrieve the gradients of the trainable weights of the layer with respect to a loss value. Using an optimizer instance, you can use these gradients to update these variables (which you can retrieve using `model.trainable_weights`).\n",
        "\n",
        "Let's consider a simple MNIST model:"
      ]
    },
    {
      "cell_type": "code",
      "metadata": {
        "id": "7hp-Lgk3ecPM"
      },
      "source": [
        "inputs = keras.Input(shape=(784,), name=\"digits\")\n",
        "x1 = layers.Dense(64, activation=\"relu\")(inputs)\n",
        "x2 = layers.Dense(64, activation=\"relu\")(x1)\n",
        "outputs = layers.Dense(10, name=\"predictions\")(x2)\n",
        "model = keras.Model(inputs=inputs, outputs=outputs)"
      ],
      "execution_count": null,
      "outputs": []
    },
    {
      "cell_type": "markdown",
      "metadata": {
        "id": "jNhIugraeib-"
      },
      "source": [
        "Let's train it using mini-batch gradient with a customized training loop.\n",
        "\n",
        "\n",
        "First, we're going to need an optimizer, a loss function, and a dataset:"
      ]
    },
    {
      "cell_type": "code",
      "metadata": {
        "id": "AlRDn9gZeklz"
      },
      "source": [
        "# Instantiate an optimizer.\n",
        "optimizer = keras.optimizers.SGD(learning_rate=1e-3)\n",
        "# Instantiate a loss function.\n",
        "loss_fn = keras.losses.SparseCategoricalCrossentropy(from_logits=True)\n",
        "\n",
        "# Prepare the training dataset.\n",
        "batch_size = 64\n",
        "(x_train, y_train), (x_test, y_test) = keras.datasets.mnist.load_data()\n",
        "x_train = np.reshape(x_train, (-1, 784))\n",
        "x_test = np.reshape(x_test, (-1, 784))\n",
        "train_dataset = tf.data.Dataset.from_tensor_slices((x_train, y_train))\n",
        "train_dataset = train_dataset.shuffle(buffer_size=1024).batch(batch_size)"
      ],
      "execution_count": null,
      "outputs": []
    },
    {
      "cell_type": "markdown",
      "metadata": {
        "id": "0TbYaIXBe7lF"
      },
      "source": [
        "Here's our training loop:\n",
        "\n",
        "We open a for loop that iterates over epochs\n",
        "For each epoch, inside the loop we open another for loop that iterates over the dataset, in batches.\n",
        "\n",
        "For each batch, we open a `GradientTape()` scope.\n",
        "Inside this scope, we call the model (forward pass) and compute the loss. The operations that the model applies to the inputs are recorded on the `GradientTape()`.\n",
        "\n",
        "We retrieve the gradients of the weights of the model with regard to the loss.\n",
        "Finally, we use the optimizer to update the weights of the model based on the gradients"
      ]
    },
    {
      "cell_type": "code",
      "metadata": {
        "id": "OYRHFd4rfCzP",
        "colab": {
          "base_uri": "https://localhost:8080/",
          "height": 425
        },
        "outputId": "adc5f424-1884-448c-eb91-9ddd1e87f3cb"
      },
      "source": [
        "epochs = 2\n",
        "for epoch in range(epochs):\n",
        "    print(\"\\nStart of epoch %d\" % (epoch,))\n",
        "\n",
        "    # Iterate over the batches of the dataset.\n",
        "    for step, (x_batch_train, y_batch_train) in enumerate(train_dataset):\n",
        "\n",
        "        # Open a GradientTape to record the operations run\n",
        "        # during the forward pass, which enables auto-differentiation.\n",
        "        with tf.GradientTape() as tape:\n",
        "\n",
        "            # Run the forward pass of the layer.\n",
        "            # The operations that the layer applies\n",
        "            # to its inputs are going to be recorded\n",
        "            # on the GradientTape.\n",
        "            logits = model(x_batch_train, training=True)  # Logits for this minibatch\n",
        "\n",
        "            # Compute the loss value for this minibatch.\n",
        "            loss_value = loss_fn(y_batch_train, logits)\n",
        "\n",
        "        # Use the gradient tape to automatically retrieve\n",
        "        # the gradients of the trainable variables with respect to the loss.\n",
        "        grads = tape.gradient(loss_value, model.trainable_weights)\n",
        "\n",
        "        # Run one step of gradient descent by updating\n",
        "        # the value of the variables to minimize the loss.\n",
        "        optimizer.apply_gradients(zip(grads, model.trainable_weights))\n",
        "\n",
        "        # Log every 200 batches.\n",
        "        if step % 200 == 0:\n",
        "            print(\n",
        "                \"Training loss (for one batch) at step %d: %.4f\"\n",
        "                % (step, float(loss_value))\n",
        "            )\n",
        "            print(\"Seen so far: %s samples\" % ((step + 1) * 64))"
      ],
      "execution_count": null,
      "outputs": [
        {
          "output_type": "stream",
          "text": [
            "\n",
            "Start of epoch 0\n",
            "Training loss (for one batch) at step 0: 165.0483\n",
            "Seen so far: 64 samples\n",
            "Training loss (for one batch) at step 200: 1.6374\n",
            "Seen so far: 12864 samples\n",
            "Training loss (for one batch) at step 400: 1.0146\n",
            "Seen so far: 25664 samples\n",
            "Training loss (for one batch) at step 600: 1.0726\n",
            "Seen so far: 38464 samples\n",
            "Training loss (for one batch) at step 800: 1.0475\n",
            "Seen so far: 51264 samples\n",
            "\n",
            "Start of epoch 1\n",
            "Training loss (for one batch) at step 0: 0.9368\n",
            "Seen so far: 64 samples\n",
            "Training loss (for one batch) at step 200: 1.0054\n",
            "Seen so far: 12864 samples\n",
            "Training loss (for one batch) at step 400: 0.4825\n",
            "Seen so far: 25664 samples\n",
            "Training loss (for one batch) at step 600: 0.5813\n",
            "Seen so far: 38464 samples\n",
            "Training loss (for one batch) at step 800: 0.9187\n",
            "Seen so far: 51264 samples\n"
          ],
          "name": "stdout"
        }
      ]
    },
    {
      "cell_type": "markdown",
      "metadata": {
        "id": "9YTZ0ouXfXRT"
      },
      "source": [
        "We can also keep track of validation accuracy using validation dataset. We can reuse the built-in metrics (or customized ones) in such training loops written from scratch. Here's the flow:\n",
        "\n",
        "1. Instantiate the metric at the start of the loop.\n",
        "2. Call `metric.update_state()` after each batch.\n",
        "3. Call `metric.result()` when you need to display the current value of the metric.\n",
        "4. Call `metric.reset_states()` when you need to clear the state of the metric (typically at the end of an epoch).\n",
        "\n",
        "Let's use this knowledge to compute `SparseCategoricalAccuracy()` on validation data at the end of each epoch:"
      ]
    },
    {
      "cell_type": "code",
      "metadata": {
        "id": "_zxpeAKzfafN"
      },
      "source": [
        "# Get model\n",
        "inputs = keras.Input(shape=(784,), name=\"digits\")\n",
        "x = layers.Dense(64, activation=\"relu\", name=\"dense_1\")(inputs)\n",
        "x = layers.Dense(64, activation=\"relu\", name=\"dense_2\")(x)\n",
        "outputs = layers.Dense(10, name=\"predictions\")(x)\n",
        "model = keras.Model(inputs=inputs, outputs=outputs)\n",
        "\n",
        "# Instantiate an optimizer to train the model.\n",
        "optimizer = keras.optimizers.SGD(learning_rate=1e-3)\n",
        "# Instantiate a loss function.\n",
        "loss_fn = keras.losses.SparseCategoricalCrossentropy(from_logits=True)\n",
        "\n",
        "# Prepare the metrics.\n",
        "train_acc_metric = keras.metrics.SparseCategoricalAccuracy()\n",
        "val_acc_metric = keras.metrics.SparseCategoricalAccuracy()\n",
        "\n",
        "# Prepare the training dataset.\n",
        "batch_size = 64\n",
        "train_dataset = tf.data.Dataset.from_tensor_slices((x_train, y_train))\n",
        "train_dataset = train_dataset.shuffle(buffer_size=1024).batch(batch_size)\n",
        "\n",
        "# Prepare the validation dataset.\n",
        "# Reserve 10,000 samples for validation.\n",
        "x_val = x_train[-10000:]\n",
        "y_val = y_train[-10000:]\n",
        "x_train = x_train[:-10000]\n",
        "y_train = y_train[:-10000]\n",
        "val_dataset = tf.data.Dataset.from_tensor_slices((x_val, y_val))\n",
        "val_dataset = val_dataset.batch(64)"
      ],
      "execution_count": null,
      "outputs": []
    },
    {
      "cell_type": "markdown",
      "metadata": {
        "id": "b3Xzd5X2fwSK"
      },
      "source": [
        "Here's our training & evaluation loop:"
      ]
    },
    {
      "cell_type": "code",
      "metadata": {
        "id": "xTv_eYQofyGw",
        "colab": {
          "base_uri": "https://localhost:8080/",
          "height": 527
        },
        "outputId": "aac4058e-b347-4ce3-b474-5d94c76c24e8"
      },
      "source": [
        "import time\n",
        "\n",
        "epochs = 2\n",
        "for epoch in range(epochs):\n",
        "    print(\"\\nStart of epoch %d\" % (epoch,))\n",
        "    start_time = time.time()\n",
        "\n",
        "    # Iterate over the batches of the dataset.\n",
        "    for step, (x_batch_train, y_batch_train) in enumerate(train_dataset):\n",
        "        with tf.GradientTape() as tape:\n",
        "            logits = model(x_batch_train, training=True)\n",
        "            loss_value = loss_fn(y_batch_train, logits)\n",
        "        grads = tape.gradient(loss_value, model.trainable_weights)\n",
        "        optimizer.apply_gradients(zip(grads, model.trainable_weights))\n",
        "\n",
        "        # Update training metric.\n",
        "        train_acc_metric.update_state(y_batch_train, logits)\n",
        "\n",
        "        # Log every 200 batches.\n",
        "        if step % 200 == 0:\n",
        "            print(\n",
        "                \"Training loss (for one batch) at step %d: %.4f\"\n",
        "                % (step, float(loss_value))\n",
        "            )\n",
        "            print(\"Seen so far: %d samples\" % ((step + 1) * 64))\n",
        "\n",
        "    # Display metrics at the end of each epoch.\n",
        "    train_acc = train_acc_metric.result()\n",
        "    print(\"Training acc over epoch: %.4f\" % (float(train_acc),))\n",
        "\n",
        "    # Reset training metrics at the end of each epoch\n",
        "    train_acc_metric.reset_states()\n",
        "\n",
        "    # Run a validation loop at the end of each epoch.\n",
        "    for x_batch_val, y_batch_val in val_dataset:\n",
        "        val_logits = model(x_batch_val, training=False)\n",
        "        # Update val metrics\n",
        "        val_acc_metric.update_state(y_batch_val, val_logits)\n",
        "    val_acc = val_acc_metric.result()\n",
        "    val_acc_metric.reset_states()\n",
        "    print(\"Validation acc: %.4f\" % (float(val_acc),))\n",
        "    print(\"Time taken: %.2fs\" % (time.time() - start_time))"
      ],
      "execution_count": null,
      "outputs": [
        {
          "output_type": "stream",
          "text": [
            "\n",
            "Start of epoch 0\n",
            "Training loss (for one batch) at step 0: 86.2313\n",
            "Seen so far: 64 samples\n",
            "Training loss (for one batch) at step 200: 1.3832\n",
            "Seen so far: 12864 samples\n",
            "Training loss (for one batch) at step 400: 1.4969\n",
            "Seen so far: 25664 samples\n",
            "Training loss (for one batch) at step 600: 1.1331\n",
            "Seen so far: 38464 samples\n",
            "Training loss (for one batch) at step 800: 0.6447\n",
            "Seen so far: 51264 samples\n",
            "Training acc over epoch: 0.6913\n",
            "Validation acc: 0.8279\n",
            "Time taken: 5.93s\n",
            "\n",
            "Start of epoch 1\n",
            "Training loss (for one batch) at step 0: 0.6376\n",
            "Seen so far: 64 samples\n",
            "Training loss (for one batch) at step 200: 0.4635\n",
            "Seen so far: 12864 samples\n",
            "Training loss (for one batch) at step 400: 0.4774\n",
            "Seen so far: 25664 samples\n",
            "Training loss (for one batch) at step 600: 0.3190\n",
            "Seen so far: 38464 samples\n",
            "Training loss (for one batch) at step 800: 0.4375\n",
            "Seen so far: 51264 samples\n",
            "Training acc over epoch: 0.8392\n",
            "Validation acc: 0.8838\n",
            "Time taken: 5.69s\n"
          ],
          "name": "stdout"
        }
      ]
    }
  ]
}