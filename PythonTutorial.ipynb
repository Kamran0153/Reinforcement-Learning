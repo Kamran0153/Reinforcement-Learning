{
  "nbformat": 4,
  "nbformat_minor": 0,
  "metadata": {
    "colab": {
      "name": "Python_Lecture.ipynb",
      "provenance": [],
      "collapsed_sections": [
        "KBBtiKJj0aQc",
        "NM7-VlfF3zt-",
        "qw_OEbfmFVcL",
        "OvntE0DpFe38",
        "I72XqPbVHMe9",
        "5bg0uWl9LNQj"
      ],
      "include_colab_link": true
    },
    "kernelspec": {
      "name": "python3",
      "display_name": "Python 3"
    },
    "language_info": {
      "name": "python"
    }
  },
  "cells": [
    {
      "cell_type": "markdown",
      "metadata": {
        "id": "view-in-github",
        "colab_type": "text"
      },
      "source": [
        "<a href=\"https://colab.research.google.com/github/mzs0153/ELEC-7970-Reinforcement-Learning/blob/main/PythonTutorial.ipynb\" target=\"_parent\"><img src=\"https://colab.research.google.com/assets/colab-badge.svg\" alt=\"Open In Colab\"/></a>"
      ]
    },
    {
      "cell_type": "markdown",
      "metadata": {
        "id": "UuHZsUZWyIG1"
      },
      "source": [
        "# Intro to Google Colab\n",
        "* Open\n",
        "* Save\n",
        "* Download and print\n",
        "* Mount Google Drive"
      ]
    },
    {
      "cell_type": "code",
      "metadata": {
        "id": "pUBvMdYX0iuF",
        "colab": {
          "base_uri": "https://localhost:8080/"
        },
        "outputId": "6034a3e7-53b5-4cf6-8ce5-0789925cee92"
      },
      "source": [
        "print(\"Hello World\")"
      ],
      "execution_count": null,
      "outputs": [
        {
          "output_type": "stream",
          "name": "stdout",
          "text": [
            "Hello World\n"
          ]
        }
      ]
    },
    {
      "cell_type": "markdown",
      "metadata": {
        "id": "u3AcgFpbMxgS"
      },
      "source": [
        "# Intro to Python\n",
        "* Variables.\n",
        "* Basic Operations.\n",
        "* Control Flow.\n",
        "   * if statement\n",
        "   * for loop\n",
        "   * while loop\n",
        "   * function\n",
        "* Numpy Module (A brief Introduction)"
      ]
    },
    {
      "cell_type": "code",
      "metadata": {
        "id": "Hcexnx1_LpGp"
      },
      "source": [
        ""
      ],
      "execution_count": null,
      "outputs": []
    },
    {
      "cell_type": "markdown",
      "metadata": {
        "id": "sOv7EmgrPyGh"
      },
      "source": [
        "# Variables\n",
        "Unlike C programming, Python has no command for declaring a variable. A variable is created the moment you first assign a value to it. Equal (=) sign is used to assigning the value to a variable. \n",
        "* Number\n",
        "* String\n",
        "* List\n"
      ]
    },
    {
      "cell_type": "markdown",
      "metadata": {
        "id": "Z5wjnIi7vQrW"
      },
      "source": [
        "Number and String"
      ]
    },
    {
      "cell_type": "code",
      "metadata": {
        "id": "7Tr7wcgYR4FC"
      },
      "source": [
        "x=2"
      ],
      "execution_count": null,
      "outputs": []
    },
    {
      "cell_type": "code",
      "metadata": {
        "id": "5-us0fpSuiIW",
        "colab": {
          "base_uri": "https://localhost:8080/"
        },
        "outputId": "df569fb7-f9b9-4c34-aaa7-111f763f210c"
      },
      "source": [
        "type(x)"
      ],
      "execution_count": null,
      "outputs": [
        {
          "output_type": "execute_result",
          "data": {
            "text/plain": [
              "int"
            ]
          },
          "metadata": {},
          "execution_count": 4
        }
      ]
    },
    {
      "cell_type": "code",
      "metadata": {
        "id": "xQ2r9CsiZtvB",
        "colab": {
          "base_uri": "https://localhost:8080/"
        },
        "outputId": "f99941bc-098a-423c-ffc6-46083c426011"
      },
      "source": [
        "x=2.5\n",
        "type(x)"
      ],
      "execution_count": null,
      "outputs": [
        {
          "output_type": "execute_result",
          "data": {
            "text/plain": [
              "float"
            ]
          },
          "metadata": {},
          "execution_count": 5
        }
      ]
    },
    {
      "cell_type": "code",
      "metadata": {
        "id": "Xk7hrfhAuoD3",
        "colab": {
          "base_uri": "https://localhost:8080/"
        },
        "outputId": "9b4532d5-11b7-4dac-97cc-365d2e85225f"
      },
      "source": [
        "x='String'\n",
        "print(x)"
      ],
      "execution_count": null,
      "outputs": [
        {
          "output_type": "stream",
          "name": "stdout",
          "text": [
            "String\n"
          ]
        }
      ]
    },
    {
      "cell_type": "code",
      "metadata": {
        "id": "wziQwCDUutHi",
        "colab": {
          "base_uri": "https://localhost:8080/"
        },
        "outputId": "8be17f8a-2bd1-41bb-fb4d-0e0641b544ff"
      },
      "source": [
        "y=x\n",
        "print(y)"
      ],
      "execution_count": null,
      "outputs": [
        {
          "output_type": "stream",
          "name": "stdout",
          "text": [
            "String\n"
          ]
        }
      ]
    },
    {
      "cell_type": "code",
      "metadata": {
        "id": "myt90YoOu3Cl",
        "colab": {
          "base_uri": "https://localhost:8080/",
          "height": 37
        },
        "outputId": "af4ba5f0-d14d-450b-a760-c76f9ac29438"
      },
      "source": [
        "y='s'\n",
        "y"
      ],
      "execution_count": null,
      "outputs": [
        {
          "output_type": "execute_result",
          "data": {
            "application/vnd.google.colaboratory.intrinsic+json": {
              "type": "string"
            },
            "text/plain": [
              "'s'"
            ]
          },
          "metadata": {},
          "execution_count": 11
        }
      ]
    },
    {
      "cell_type": "code",
      "metadata": {
        "id": "Eet18G-uu770"
      },
      "source": [
        ""
      ],
      "execution_count": null,
      "outputs": []
    },
    {
      "cell_type": "code",
      "metadata": {
        "id": "hb7N3n7CvD_c"
      },
      "source": [
        ""
      ],
      "execution_count": null,
      "outputs": []
    },
    {
      "cell_type": "markdown",
      "metadata": {
        "id": "1P9-SjN1vddD"
      },
      "source": [
        "List: A list in Python is an ordered (and indexed) collection of objects."
      ]
    },
    {
      "cell_type": "code",
      "metadata": {
        "id": "AjUIFA0qvnA_",
        "colab": {
          "base_uri": "https://localhost:8080/"
        },
        "outputId": "bc0d2316-8c5f-4113-de67-72ab7ca135a1"
      },
      "source": [
        "x=[1, 2, 5, 'String']\n",
        "print(x)"
      ],
      "execution_count": null,
      "outputs": [
        {
          "output_type": "stream",
          "name": "stdout",
          "text": [
            "[1, 2, 5, 'String']\n"
          ]
        }
      ]
    },
    {
      "cell_type": "code",
      "metadata": {
        "id": "vGw_GFHxvurG"
      },
      "source": [
        ""
      ],
      "execution_count": null,
      "outputs": []
    },
    {
      "cell_type": "markdown",
      "metadata": {
        "id": "g2qLnDVhxGbA"
      },
      "source": [
        "We can get access of the elements in the list by their index. Python indexing starts from 0."
      ]
    },
    {
      "cell_type": "code",
      "metadata": {
        "id": "K--wJxAov7vA",
        "colab": {
          "base_uri": "https://localhost:8080/",
          "height": 37
        },
        "outputId": "836aa901-5a05-4345-c77a-add6ee0cf93b"
      },
      "source": [
        "x[3]"
      ],
      "execution_count": null,
      "outputs": [
        {
          "output_type": "execute_result",
          "data": {
            "application/vnd.google.colaboratory.intrinsic+json": {
              "type": "string"
            },
            "text/plain": [
              "'String'"
            ]
          },
          "metadata": {},
          "execution_count": 16
        }
      ]
    },
    {
      "cell_type": "markdown",
      "metadata": {
        "id": "wxKCtU85xWuF"
      },
      "source": [
        "String can be treated as list. "
      ]
    },
    {
      "cell_type": "code",
      "metadata": {
        "id": "PjfF8w6kv-zb",
        "colab": {
          "base_uri": "https://localhost:8080/",
          "height": 37
        },
        "outputId": "ff2341b7-fb4f-442f-e510-d43df869fe4e"
      },
      "source": [
        "y='String'\n",
        "y[0]"
      ],
      "execution_count": null,
      "outputs": [
        {
          "output_type": "execute_result",
          "data": {
            "application/vnd.google.colaboratory.intrinsic+json": {
              "type": "string"
            },
            "text/plain": [
              "'S'"
            ]
          },
          "metadata": {},
          "execution_count": 17
        }
      ]
    },
    {
      "cell_type": "markdown",
      "metadata": {
        "id": "Hsz8mZmWwTxV"
      },
      "source": [
        "List can hold any type of data (number, character or string) but string can only hold set of characters."
      ]
    },
    {
      "cell_type": "markdown",
      "metadata": {
        "id": "KBBtiKJj0aQc"
      },
      "source": [
        "# Basic Operations\n",
        "Arithmatic Operators\n",
        "* Addition (+)\n",
        "* Subtraction (-)\n",
        "* Multiplication (*)\n",
        "* Division (/)\n",
        "* Modulus (%)\n",
        "* Exponentiation (**)\n",
        "* Floor division (//)\n",
        "\n",
        "Comparison Operators\n",
        "* Equal (==)\n",
        "* Not equal (!=)\n",
        "* greater than (>) and less than (<)\n",
        "* greater than or equal to (>=) and less than (<=)"
      ]
    },
    {
      "cell_type": "markdown",
      "metadata": {
        "id": "kqh8vI2m3Oqe"
      },
      "source": [
        "Examples"
      ]
    },
    {
      "cell_type": "code",
      "metadata": {
        "id": "yLFRJ-vJ3RA2",
        "colab": {
          "base_uri": "https://localhost:8080/"
        },
        "outputId": "49c5eea1-a31d-4aed-8dc1-ea8a70ec7c54"
      },
      "source": [
        "y=4\n",
        "x=2\n",
        "print(y/x)"
      ],
      "execution_count": null,
      "outputs": [
        {
          "output_type": "stream",
          "name": "stdout",
          "text": [
            "2.0\n"
          ]
        }
      ]
    },
    {
      "cell_type": "code",
      "metadata": {
        "id": "OTRXTDyUa1oQ",
        "colab": {
          "base_uri": "https://localhost:8080/"
        },
        "outputId": "a4045865-4851-4f89-aff5-a1c892223293"
      },
      "source": [
        "print(y>x)"
      ],
      "execution_count": null,
      "outputs": [
        {
          "output_type": "stream",
          "name": "stdout",
          "text": [
            "True\n"
          ]
        }
      ]
    },
    {
      "cell_type": "markdown",
      "metadata": {
        "id": "AQ4EMNR2fmZ_"
      },
      "source": [
        "To use this basic operation, variables need to be matched. Otherwise, we will get TypeError."
      ]
    },
    {
      "cell_type": "code",
      "metadata": {
        "id": "F_AyXNIib0O5",
        "colab": {
          "base_uri": "https://localhost:8080/",
          "height": 181
        },
        "outputId": "37422319-6259-40e0-9a57-20290cdb6c53"
      },
      "source": [
        "y='String'\n",
        "y+x"
      ],
      "execution_count": null,
      "outputs": [
        {
          "output_type": "error",
          "ename": "TypeError",
          "evalue": "ignored",
          "traceback": [
            "\u001b[0;31m---------------------------------------------------------------------------\u001b[0m",
            "\u001b[0;31mTypeError\u001b[0m                                 Traceback (most recent call last)",
            "\u001b[0;32m<ipython-input-23-24ee703ae01c>\u001b[0m in \u001b[0;36m<module>\u001b[0;34m()\u001b[0m\n\u001b[1;32m      1\u001b[0m \u001b[0my\u001b[0m\u001b[0;34m=\u001b[0m\u001b[0;34m'String'\u001b[0m\u001b[0;34m\u001b[0m\u001b[0;34m\u001b[0m\u001b[0m\n\u001b[0;32m----> 2\u001b[0;31m \u001b[0my\u001b[0m\u001b[0;34m+\u001b[0m\u001b[0mx\u001b[0m\u001b[0;34m\u001b[0m\u001b[0;34m\u001b[0m\u001b[0m\n\u001b[0m",
            "\u001b[0;31mTypeError\u001b[0m: can only concatenate str (not \"int\") to str"
          ]
        }
      ]
    },
    {
      "cell_type": "code",
      "metadata": {
        "id": "2qync4SmfWEC",
        "colab": {
          "base_uri": "https://localhost:8080/"
        },
        "outputId": "4681d15f-0f5c-4b97-cfc2-75c96a30deb0"
      },
      "source": [
        "y='python'\n",
        "x=' Lecture'\n",
        "print(y+x)"
      ],
      "execution_count": null,
      "outputs": [
        {
          "output_type": "stream",
          "name": "stdout",
          "text": [
            "python Lecture\n"
          ]
        }
      ]
    },
    {
      "cell_type": "code",
      "metadata": {
        "id": "4uf7kBgJfyTN",
        "colab": {
          "base_uri": "https://localhost:8080/"
        },
        "outputId": "61e1e1cb-c56f-4406-af7a-7e96552d19c8"
      },
      "source": [
        "y=[1, 2, 'String']\n",
        "x=[3, 4]\n",
        "print(y+x)"
      ],
      "execution_count": null,
      "outputs": [
        {
          "output_type": "stream",
          "name": "stdout",
          "text": [
            "[1, 2, 'String', 3, 4]\n"
          ]
        }
      ]
    },
    {
      "cell_type": "markdown",
      "metadata": {
        "id": "nnm4m8S0cJcV"
      },
      "source": [
        "Python is an object oriented programming. \n",
        "* Variables are 'object' and \n",
        "* We have some 'method' for modifying the object.\n",
        "* For example: append( ), insert( ), remove( ) etc."
      ]
    },
    {
      "cell_type": "code",
      "metadata": {
        "id": "V76HdiW2eH_9",
        "colab": {
          "base_uri": "https://localhost:8080/"
        },
        "outputId": "d7d41526-eb56-41c1-f0af-61611f8944b5"
      },
      "source": [
        "y.append(4)\n",
        "print(y)"
      ],
      "execution_count": null,
      "outputs": [
        {
          "output_type": "stream",
          "name": "stdout",
          "text": [
            "[1, 2, 'String', 4, 4, 4, 4]\n"
          ]
        }
      ]
    },
    {
      "cell_type": "code",
      "metadata": {
        "id": "SoaNk-qgef3L",
        "colab": {
          "base_uri": "https://localhost:8080/"
        },
        "outputId": "fb556c24-c231-4886-dcc4-ed9a39199c6e"
      },
      "source": [
        "y=[1, 2]\n",
        "x=y\n",
        "print(y)\n",
        "print(x)"
      ],
      "execution_count": null,
      "outputs": [
        {
          "output_type": "stream",
          "name": "stdout",
          "text": [
            "[1, 2]\n",
            "[1, 2]\n"
          ]
        }
      ]
    },
    {
      "cell_type": "code",
      "metadata": {
        "id": "IzlNZ9G0ekjr",
        "colab": {
          "base_uri": "https://localhost:8080/"
        },
        "outputId": "8de94e08-244f-42a5-d7ea-6605351d81c7"
      },
      "source": [
        "y[0]=2\n",
        "print(y)\n",
        "print(x)"
      ],
      "execution_count": null,
      "outputs": [
        {
          "output_type": "stream",
          "name": "stdout",
          "text": [
            "[2, 2]\n",
            "[2, 2]\n"
          ]
        }
      ]
    },
    {
      "cell_type": "code",
      "metadata": {
        "id": "oCxL0SqOe-yp",
        "colab": {
          "base_uri": "https://localhost:8080/"
        },
        "outputId": "9466f964-28f0-4410-dc50-aa94e903dbf8"
      },
      "source": [
        "x=y.copy()\n",
        "y[1]=4\n",
        "print(y)\n",
        "print(x)"
      ],
      "execution_count": null,
      "outputs": [
        {
          "output_type": "stream",
          "name": "stdout",
          "text": [
            "[2, 4]\n",
            "[2, 2]\n"
          ]
        }
      ]
    },
    {
      "cell_type": "markdown",
      "metadata": {
        "id": "iEuUmJIcfFeN"
      },
      "source": [
        "A list only stores some pointers to locations in your computer's memory: when we wrote y = x Python created a new list y which shares its entries with x.\n",
        "The function .copy( ) will create a completely distinct copy with new objects."
      ]
    },
    {
      "cell_type": "markdown",
      "metadata": {
        "id": "NM7-VlfF3zt-"
      },
      "source": [
        "#Control Flow\n",
        "A program’s control flow is the order in which the program’s code executes. The control flow of a Python program is regulated by conditional statements, loops, and function calls. \n",
        "\n",
        "Python executes block of statements if condition above the block is true. Each line in the block must be indented with same amount (We need to move the start of the line in an inner block further from the margin). \n",
        "\n"
      ]
    },
    {
      "cell_type": "markdown",
      "metadata": {
        "id": "qw_OEbfmFVcL"
      },
      "source": [
        "#if \n",
        "#elif \n",
        "#else"
      ]
    },
    {
      "cell_type": "code",
      "metadata": {
        "id": "NehgPUM7Eezu"
      },
      "source": [
        "if condition:\n",
        "  statement1\n",
        "  statement2\n",
        "  .........\n",
        "  .........\n",
        "  statementn\n",
        "elif (condition):\n",
        "  Another statement1\n",
        "  Another statement2\n",
        "  .........\n",
        "  .........\n",
        "  Another statementn\n",
        "else:\n",
        "  No condition is true \n",
        "We are out of the if else statement\n"
      ],
      "execution_count": null,
      "outputs": []
    },
    {
      "cell_type": "code",
      "metadata": {
        "id": "Mtn2OzRaCq7E",
        "colab": {
          "base_uri": "https://localhost:8080/"
        },
        "outputId": "97126377-4b6e-49be-f7cb-d80fbe39292a"
      },
      "source": [
        "x=0\n",
        "if x>5:\n",
        "  print(\"x is greater than 5\")\n",
        "elif x<0:\n",
        "  print(\"x is a negative number\")\n",
        "else:\n",
        "  print(\"x is in between 0 and 5\")"
      ],
      "execution_count": null,
      "outputs": [
        {
          "output_type": "stream",
          "name": "stdout",
          "text": [
            "x is in between 0 and 5\n"
          ]
        }
      ]
    },
    {
      "cell_type": "markdown",
      "metadata": {
        "id": "OvntE0DpFe38"
      },
      "source": [
        "#for loop\n",
        "A for loop is used for iterating over a sequence.  "
      ]
    },
    {
      "cell_type": "markdown",
      "metadata": {
        "id": "7l8BhARThH9v"
      },
      "source": [
        "Number of iterations can be controlled by range(). range(5) will allow 'for loop' to iterate 5 times. However, range() is not the only option. Example: 'for loop' can be iterated for each elements in a list."
      ]
    },
    {
      "cell_type": "markdown",
      "metadata": {
        "id": "yjwQlESa59u7"
      },
      "source": [
        "range(5) creates a sequence of 5 numbers from 0 to 4 (incremented by 1). You can also modify range(start, stop, step). "
      ]
    },
    {
      "cell_type": "code",
      "metadata": {
        "id": "rF3GZMPMDS9c",
        "colab": {
          "base_uri": "https://localhost:8080/"
        },
        "outputId": "0b86d38d-a732-49d6-91bb-954d543781e1"
      },
      "source": [
        "a=[4, 5, 10, 2]\n",
        "sum=0\n",
        "for i in range(4):\n",
        "  sum=sum+a[i]\n",
        "print(sum)"
      ],
      "execution_count": null,
      "outputs": [
        {
          "output_type": "stream",
          "name": "stdout",
          "text": [
            "21\n"
          ]
        }
      ]
    },
    {
      "cell_type": "code",
      "metadata": {
        "id": "sIPHR2QbGuJy",
        "colab": {
          "base_uri": "https://localhost:8080/"
        },
        "outputId": "b4654628-de00-472f-bc9d-0e739476d455"
      },
      "source": [
        "a=[4, 5, 10, 2]\n",
        "sum=0\n",
        "for i in a:\n",
        "  print(i)\n",
        "  sum=sum+i\n",
        "print(sum)"
      ],
      "execution_count": null,
      "outputs": [
        {
          "output_type": "stream",
          "name": "stdout",
          "text": [
            "4\n",
            "5\n",
            "10\n",
            "2\n",
            "21\n"
          ]
        }
      ]
    },
    {
      "cell_type": "markdown",
      "metadata": {
        "id": "I72XqPbVHMe9"
      },
      "source": [
        "# while loop\n",
        "Until a condition is false, while loop will iterate."
      ]
    },
    {
      "cell_type": "code",
      "metadata": {
        "id": "Ig3EBFYjHhPd",
        "colab": {
          "base_uri": "https://localhost:8080/"
        },
        "outputId": "25102ec6-5e73-48de-c1ab-00c5bce7b53b"
      },
      "source": [
        "a=[4, 5, 10, 2]\n",
        "sum=0\n",
        "i=0\n",
        "while i<len(a):\n",
        "  print(i)\n",
        "  sum=sum+a[i]\n",
        "  i=i+1\n",
        "print(sum)"
      ],
      "execution_count": null,
      "outputs": [
        {
          "output_type": "stream",
          "name": "stdout",
          "text": [
            "0\n",
            "1\n",
            "2\n",
            "3\n",
            "21\n"
          ]
        }
      ]
    },
    {
      "cell_type": "markdown",
      "metadata": {
        "id": "5bg0uWl9LNQj"
      },
      "source": [
        "# Function\n"
      ]
    },
    {
      "cell_type": "code",
      "metadata": {
        "id": "ZjaIPmgyLS7A",
        "colab": {
          "base_uri": "https://localhost:8080/"
        },
        "outputId": "19550552-b2b7-40ca-ddfd-75b1f760dd20"
      },
      "source": [
        "def summation(x):\n",
        "   sum=0\n",
        "   i=0\n",
        "\n",
        "   while i<len(x):\n",
        "       sum=sum+x[i]\n",
        "       i=i+1\n",
        "   return sum\n",
        "\n",
        "a=[4, 5, 10, 2]\n",
        "sum=summation(a)\n",
        "print(sum)"
      ],
      "execution_count": null,
      "outputs": [
        {
          "output_type": "stream",
          "name": "stdout",
          "text": [
            "21\n"
          ]
        }
      ]
    },
    {
      "cell_type": "markdown",
      "metadata": {
        "id": "a-o5HzKJixo6"
      },
      "source": [
        "#Numpy Module\n",
        "Consider a 'module' as a code library which contains a set of 'functions'. Numpy is the fundamental module for scientific computing in Python."
      ]
    },
    {
      "cell_type": "code",
      "metadata": {
        "id": "U642EumQjfhM"
      },
      "source": [
        "import numpy as np"
      ],
      "execution_count": null,
      "outputs": []
    },
    {
      "cell_type": "code",
      "metadata": {
        "id": "Fanh_1d2kOvR",
        "colab": {
          "base_uri": "https://localhost:8080/"
        },
        "outputId": "a5d7daa2-2f7b-484a-b033-a00e658c1b17"
      },
      "source": [
        "a=[1, 2, 3]\n",
        "b=np.array(a)\n",
        "print(b)\n",
        "type(b)"
      ],
      "execution_count": null,
      "outputs": [
        {
          "output_type": "stream",
          "name": "stdout",
          "text": [
            "[1 2 3]\n"
          ]
        },
        {
          "output_type": "execute_result",
          "data": {
            "text/plain": [
              "numpy.ndarray"
            ]
          },
          "metadata": {},
          "execution_count": 50
        }
      ]
    },
    {
      "cell_type": "code",
      "metadata": {
        "id": "40JpJwTFkmr_",
        "colab": {
          "base_uri": "https://localhost:8080/"
        },
        "outputId": "8a35ae79-cbc0-40d2-b901-7eb092b4f670"
      },
      "source": [
        "a=[[1, 2, 3], [4, 5, 6], [7, 8, 9]]\n",
        "b=np.array(a)\n",
        "print(b)"
      ],
      "execution_count": null,
      "outputs": [
        {
          "output_type": "stream",
          "name": "stdout",
          "text": [
            "[[1 2 3]\n",
            " [4 5 6]\n",
            " [7 8 9]]\n"
          ]
        }
      ]
    },
    {
      "cell_type": "code",
      "metadata": {
        "id": "RuS1INL1nJkX",
        "colab": {
          "base_uri": "https://localhost:8080/"
        },
        "outputId": "4fc28d19-afd0-423e-c826-a9f4a8595308"
      },
      "source": [
        "a=np.arange(6)\n",
        "b=a.reshape(3,2)\n",
        "print(b)"
      ],
      "execution_count": null,
      "outputs": [
        {
          "output_type": "stream",
          "name": "stdout",
          "text": [
            "[[0 1]\n",
            " [2 3]\n",
            " [4 5]]\n"
          ]
        }
      ]
    },
    {
      "cell_type": "markdown",
      "metadata": {
        "id": "tarsuAZ5qfXt"
      },
      "source": [
        "We can use functions from Numpy library to do numerical operations."
      ]
    },
    {
      "cell_type": "code",
      "metadata": {
        "id": "b2j9HaheqCtb",
        "colab": {
          "base_uri": "https://localhost:8080/"
        },
        "outputId": "2226841e-d494-413f-bf0c-50e7f63af678"
      },
      "source": [
        "a=[4, 5, 10, 2]\n",
        "sum=np.sum(a)\n",
        "print(sum)"
      ],
      "execution_count": null,
      "outputs": [
        {
          "output_type": "stream",
          "name": "stdout",
          "text": [
            "21\n"
          ]
        }
      ]
    },
    {
      "cell_type": "code",
      "metadata": {
        "id": "p-7izTkc5UFT",
        "colab": {
          "base_uri": "https://localhost:8080/"
        },
        "outputId": "e081ba70-9618-49c6-f470-4866bb38b09a"
      },
      "source": [
        "np.linspace(0,2,9)"
      ],
      "execution_count": null,
      "outputs": [
        {
          "output_type": "execute_result",
          "data": {
            "text/plain": [
              "array([0.  , 0.25, 0.5 , 0.75, 1.  , 1.25, 1.5 , 1.75, 2.  ])"
            ]
          },
          "metadata": {},
          "execution_count": 59
        }
      ]
    },
    {
      "cell_type": "code",
      "metadata": {
        "id": "lS9aALhY6rrw",
        "colab": {
          "base_uri": "https://localhost:8080/"
        },
        "outputId": "e078cbe8-fe80-45da-cfc4-ad6665df9da1"
      },
      "source": [
        "mu=3\n",
        "sigma=2\n",
        "np.random.normal(mu, sigma,6).reshape(3,2)"
      ],
      "execution_count": null,
      "outputs": [
        {
          "output_type": "execute_result",
          "data": {
            "text/plain": [
              "array([[0.84972975, 4.80050687],\n",
              "       [3.0120654 , 1.85052322],\n",
              "       [2.69208434, 3.18032288]])"
            ]
          },
          "metadata": {},
          "execution_count": 64
        }
      ]
    },
    {
      "cell_type": "code",
      "metadata": {
        "id": "pkJv54OJ7L7i",
        "colab": {
          "base_uri": "https://localhost:8080/"
        },
        "outputId": "7d1b3a5b-4d0d-4957-d6ba-221d32fd4220"
      },
      "source": [
        "x=np.linspace(0,10,100)\n",
        "y=np.sin(x)\n",
        "print(y)"
      ],
      "execution_count": null,
      "outputs": [
        {
          "output_type": "stream",
          "name": "stdout",
          "text": [
            "[ 0.          0.10083842  0.20064886  0.2984138   0.39313661  0.48385164\n",
            "  0.56963411  0.64960951  0.72296256  0.78894546  0.84688556  0.8961922\n",
            "  0.93636273  0.96698762  0.98775469  0.99845223  0.99897117  0.98930624\n",
            "  0.96955595  0.93992165  0.90070545  0.85230712  0.79522006  0.73002623\n",
            "  0.65739025  0.57805259  0.49282204  0.40256749  0.30820902  0.21070855\n",
            "  0.11106004  0.01027934 -0.09060615 -0.19056796 -0.28858706 -0.38366419\n",
            " -0.47483011 -0.56115544 -0.64176014 -0.7158225  -0.7825875  -0.84137452\n",
            " -0.89158426 -0.93270486 -0.96431712 -0.98609877 -0.99782778 -0.99938456\n",
            " -0.99075324 -0.97202182 -0.94338126 -0.90512352 -0.85763861 -0.80141062\n",
            " -0.73701276 -0.66510151 -0.58640998 -0.50174037 -0.41195583 -0.31797166\n",
            " -0.22074597 -0.12126992 -0.0205576   0.0803643   0.18046693  0.27872982\n",
            "  0.37415123  0.46575841  0.55261747  0.63384295  0.7086068   0.77614685\n",
            "  0.83577457  0.8868821   0.92894843  0.96154471  0.98433866  0.99709789\n",
            "  0.99969234  0.99209556  0.97438499  0.94674118  0.90944594  0.86287948\n",
            "  0.8075165   0.74392141  0.6727425   0.59470541  0.51060568  0.42130064\n",
            "  0.32770071  0.23076008  0.13146699  0.03083368 -0.07011396 -0.17034683\n",
            " -0.26884313 -0.36459873 -0.45663749 -0.54402111]\n"
          ]
        }
      ]
    },
    {
      "cell_type": "code",
      "metadata": {
        "id": "P-op3j5N7Xh7",
        "colab": {
          "base_uri": "https://localhost:8080/",
          "height": 282
        },
        "outputId": "febcd579-7ff0-43e6-834e-057eb44ac0af"
      },
      "source": [
        "import matplotlib.pyplot as plt\n",
        "plt.plot(y)"
      ],
      "execution_count": null,
      "outputs": [
        {
          "output_type": "execute_result",
          "data": {
            "text/plain": [
              "[<matplotlib.lines.Line2D at 0x7f2bc3ca77d0>]"
            ]
          },
          "metadata": {},
          "execution_count": 66
        },
        {
          "output_type": "display_data",
          "data": {
            "image/png": "[encoded data removed]",
            "text/plain": [
              "<Figure size 432x288 with 1 Axes>"
            ]
          },
          "metadata": {
            "needs_background": "light"
          }
        }
      ]
    },
    {
      "cell_type": "code",
      "metadata": {
        "id": "WTmIGqKT76lR"
      },
      "source": [
        ""
      ],
      "execution_count": null,
      "outputs": []
    },
    {
      "cell_type": "code",
      "metadata": {
        "id": "WWLBnYYJ8lry"
      },
      "source": [
        ""
      ],
      "execution_count": null,
      "outputs": []
    }
  ]
}