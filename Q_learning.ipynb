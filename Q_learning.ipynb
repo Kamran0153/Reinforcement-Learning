{
  "nbformat": 4,
  "nbformat_minor": 0,
  "metadata": {
    "colab": {
      "name": "Q_learning.ipynb",
      "provenance": [],
      "authorship_tag": "ABX9TyPd+4eVzBWkGgSDC71um46g",
      "include_colab_link": true
    },
    "kernelspec": {
      "name": "python3",
      "display_name": "Python 3"
    },
    "language_info": {
      "name": "python"
    }
  },
  "cells": [
    {
      "cell_type": "markdown",
      "metadata": {
        "id": "view-in-github",
        "colab_type": "text"
      },
      "source": [
        "<a href=\"https://colab.research.google.com/github/mzs0153/ELEC-7970-Reinforcement-Learning/blob/main/Q_learning.ipynb\" target=\"_parent\"><img src=\"https://colab.research.google.com/assets/colab-badge.svg\" alt=\"Open In Colab\"/></a>"
      ]
    },
    {
      "cell_type": "markdown",
      "metadata": {
        "id": "FzBDIld-VVCj"
      },
      "source": [
        "# Creating Taxi-v3 Environment from OpenAI gym"
      ]
    },
    {
      "cell_type": "code",
      "metadata": {
        "colab": {
          "base_uri": "https://localhost:8080/"
        },
        "id": "Mzeq0dJnVPhV",
        "outputId": "a861807a-93d3-4321-9c09-f7cd9c03a13b"
      },
      "source": [
        "import gym\n",
        "import numpy as np\n",
        "env = gym.make(\"Taxi-v3\")\n",
        "state = env.reset()\n",
        "print(state)\n",
        "env.render()"
      ],
      "execution_count": 67,
      "outputs": [
        {
          "output_type": "stream",
          "name": "stdout",
          "text": [
            "73\n",
            "+---------+\n",
            "|R: | :\u001b[43m \u001b[0m:\u001b[35mG\u001b[0m|\n",
            "| : | : : |\n",
            "| : : : : |\n",
            "| | : | : |\n",
            "|Y| : |\u001b[34;1mB\u001b[0m: |\n",
            "+---------+\n",
            "\n"
          ]
        }
      ]
    },
    {
      "cell_type": "code",
      "metadata": {
        "id": "7wnnNmBrVW7T"
      },
      "source": [
        "n_states = env.observation_space.n\n",
        "n_actions = env.action_space.n"
      ],
      "execution_count": 68,
      "outputs": []
    },
    {
      "cell_type": "markdown",
      "metadata": {
        "id": "K6EyR5GiVgAy"
      },
      "source": [
        "# Epsilon-Greedy Policy"
      ]
    },
    {
      "cell_type": "code",
      "metadata": {
        "id": "-CmNDK2rVfua"
      },
      "source": [
        "def eps_greedy(Q, eps):\n",
        "  p = np.random.random()\n",
        "  if (p < eps):\n",
        "    return env.action_space.sample()\n",
        "  else:\n",
        "    return np.argmax(Q)"
      ],
      "execution_count": 69,
      "outputs": []
    },
    {
      "cell_type": "code",
      "metadata": {
        "id": "Aem5jgoMVuCR"
      },
      "source": [
        "Q= np.zeros([n_states, n_actions])\n",
        "alpha = 0.6\n",
        "gamma=0.9\n",
        "episodes = 50000\n",
        "eps=0.1\n",
        "RewardTracker=[]\n",
        "TimeStepTracker=[]\n",
        "for episode in range(episodes):\n",
        "    Termination = False\n",
        "    G, reward = 0,0\n",
        "    state = env.reset() #Initialize the state S \n",
        "    t=0\n",
        "    while Termination != True:\n",
        "        t+=1\n",
        "        action=eps_greedy(Q[state], eps) #Choose action A from S using policy derived from Q value. (epsilon-greedy approach)\n",
        "        state2, reward, done, _ = env.step(action) #Take Action A and Observe the next state S' and reward\n",
        "        G+=reward \n",
        "        #Update Q value ????\n",
        "        Q[state, action]=Q[state, action]+alpha*(reward+gamma*np.max(Q[state2])-Q[state, action])\n",
        "        state =state2 #Assign the next state\n",
        "        if (done):\n",
        "          Termination=True\n",
        "    RewardTracker.append(G)\n",
        "    TimeStepTracker.append(t)"
      ],
      "execution_count": 178,
      "outputs": []
    },
    {
      "cell_type": "code",
      "metadata": {
        "colab": {
          "base_uri": "https://localhost:8080/",
          "height": 295
        },
        "id": "PnWPltrWA-24",
        "outputId": "9faf4309-185e-4ac8-d43e-2a4b65dbb4f5"
      },
      "source": [
        "import matplotlib.pyplot as plt\n",
        "plt.plot(RewardTracker)\n",
        "plt.xlabel('episodes')\n",
        "plt.ylabel('Total Rewards')\n",
        "plt.title('Q_Learning')\n",
        "plt.savefig('Q_learningReward.pdf')"
      ],
      "execution_count": 176,
      "outputs": [
        {
          "output_type": "display_data",
          "data": {
            "image/png": "[encoded data removed]",
            "text/plain": [
              "<Figure size 432x288 with 1 Axes>"
            ]
          },
          "metadata": {
            "needs_background": "light"
          }
        }
      ]
    },
    {
      "cell_type": "code",
      "metadata": {
        "colab": {
          "base_uri": "https://localhost:8080/",
          "height": 295
        },
        "id": "vbTyLZ5-LN1X",
        "outputId": "e06f0e3b-f0ba-493d-e160-399b5b108f89"
      },
      "source": [
        "plt.plot(TimeStepTracker)\n",
        "plt.xlabel('episodes')\n",
        "plt.ylabel('Total Timestep')\n",
        "plt.title('Q_learning')\n",
        "plt.savefig('Q_learningTime.pdf')"
      ],
      "execution_count": 173,
      "outputs": [
        {
          "output_type": "display_data",
          "data": {
            "image/png": "[encoded data removed]",
            "text/plain": [
              "<Figure size 432x288 with 1 Axes>"
            ]
          },
          "metadata": {
            "needs_background": "light"
          }
        }
      ]
    },
    {
      "cell_type": "markdown",
      "metadata": {
        "id": "6lZ64s_JD-JP"
      },
      "source": [
        "# Evaluating Q-Learning Agent's Performance"
      ]
    },
    {
      "cell_type": "code",
      "metadata": {
        "colab": {
          "base_uri": "https://localhost:8080/"
        },
        "id": "ecsqEVLNC-Ej",
        "outputId": "c62b51cf-d97b-4654-cff8-98f60771ec85"
      },
      "source": [
        "episodes=50000\n",
        "RewardTracker=[]\n",
        "TimeStepTracker=[]\n",
        "for episode in range(episodes):\n",
        "    Termination = False\n",
        "    G, reward = 0,0\n",
        "    iteration=0\n",
        "    s=env.reset()\n",
        "    while Termination != True:\n",
        "        iteration+=1\n",
        "        a=np.argmax(Q[s])\n",
        "        s, reward, done, _ = env.step(a) \n",
        "        G+=reward\n",
        "        if (done):\n",
        "          Termination=True\n",
        "    RewardTracker.append(G)\n",
        "    TimeStepTracker.append(iteration)\n",
        "print('Average Sum of Rewards: {}'.format(sum(RewardTracker)/len(RewardTracker)))\n",
        "print('Average Timesteps Taken: {}'.format(sum(TimeStepTracker)/len(TimeStepTracker)))"
      ],
      "execution_count": 179,
      "outputs": [
        {
          "output_type": "stream",
          "name": "stdout",
          "text": [
            "Average Sum of Rewards: 7.91798\n",
            "Average Timesteps Taken: 13.08202\n"
          ]
        }
      ]
    }
  ]
}